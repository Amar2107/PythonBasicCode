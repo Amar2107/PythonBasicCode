{
 "cells": [
  {
   "cell_type": "code",
   "execution_count": 1,
   "metadata": {},
   "outputs": [
    {
     "name": "stdout",
     "output_type": "stream",
     "text": [
      "Ticket NUmber for all the passenger\n",
      "T =  1001\n",
      "T =  1002\n",
      "T =  1003\n"
     ]
    }
   ],
   "source": [
    "no = 3\n",
    "t  = 1001\n",
    "print(\"Ticket NUmber for all the passenger\")\n",
    "while(no > 0):\n",
    "    print(\"T = \",t)\n",
    "    t = t+1\n",
    "    no = no-1"
   ]
  },
  {
   "cell_type": "code",
   "execution_count": 2,
   "metadata": {},
   "outputs": [
    {
     "name": "stdout",
     "output_type": "stream",
     "text": [
      "8.25\n"
     ]
    }
   ],
   "source": [
    "n1 = 50\n",
    "n2 = 2\n",
    "n3 = 3\n",
    "n4 = 8\n",
    "result = n1/n4-n3*n2+n4\n",
    "print(result)"
   ]
  },
  {
   "cell_type": "code",
   "execution_count": 4,
   "metadata": {},
   "outputs": [
    {
     "name": "stdout",
     "output_type": "stream",
     "text": [
      "Enter the 1st number2\n",
      "Enter the 2nd number4\n",
      "Enter the 3rd number5\n",
      "number 1 is the smallest number\n"
     ]
    }
   ],
   "source": [
    "number1=input(\"Enter the 1st number\")\n",
    "number2=input(\"Enter the 2nd number\")\n",
    "number3=input(\"Enter the 3rd number\")\n",
    "if number1 < number2:\n",
    "    if number1 < number3:\n",
    "        print(\"number 1 is the smallest number\")\n",
    "    else:\n",
    "        print(\"number 3 is the smallest number\")\n",
    "else:\n",
    "    if(number2 < number3):\n",
    "        print(\"Number 2 is the smallest number\")\n",
    "    else:\n",
    "        print(\"Number 3 is the smallest number\")"
   ]
  },
  {
   "cell_type": "code",
   "execution_count": 9,
   "metadata": {},
   "outputs": [
    {
     "name": "stdout",
     "output_type": "stream",
     "text": [
      "316.6666666666667\n",
      "False\n"
     ]
    }
   ],
   "source": [
    "mileage=12\n",
    "amount_per_litre=40\n",
    "distance_one_way=190\n",
    "per_head_cost=0\n",
    "divisible_by_five=False\n",
    "\n",
    "\n",
    "per_head_cost = (distance_one_way * amount_per_litre)/(2*mileage)\n",
    "if per_head_cost%5 == 0 :\n",
    "    divisible_by_five=True\n",
    "\n",
    "print(per_head_cost)\n",
    "print(divisible_by_five)"
   ]
  },
  {
   "cell_type": "code",
   "execution_count": 10,
   "metadata": {},
   "outputs": [
    {
     "name": "stdout",
     "output_type": "stream",
     "text": [
      "5\n"
     ]
    }
   ],
   "source": [
    "number=input(\"Enter the number\")\n",
    "while number!=0 :\n",
    "    rem = number%10\n",
    "    rev = rem*10+rev"
   ]
  },
  {
   "cell_type": "code",
   "execution_count": null,
   "metadata": {},
   "outputs": [],
   "source": [
    "for"
   ]
  }
 ],
 "metadata": {
  "kernelspec": {
   "display_name": "Python 3",
   "language": "python",
   "name": "python3"
  },
  "language_info": {
   "codemirror_mode": {
    "name": "ipython",
    "version": 3
   },
   "file_extension": ".py",
   "mimetype": "text/x-python",
   "name": "python",
   "nbconvert_exporter": "python",
   "pygments_lexer": "ipython3",
   "version": "3.6.4"
  }
 },
 "nbformat": 4,
 "nbformat_minor": 2
}
