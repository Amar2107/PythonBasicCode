{
 "cells": [
  {
   "cell_type": "code",
   "execution_count": 9,
   "metadata": {},
   "outputs": [
    {
     "name": "stdout",
     "output_type": "stream",
     "text": [
      "a is less than b\n",
      "a is definitely less than b\n",
      "not sure if a is less than b\n"
     ]
    }
   ],
   "source": [
    "a = 1\n",
    "b = 2\n",
    "if a < b :\n",
    "    print(\"a is less than b\")\n",
    "    print(\"a is definitely less than b\")\n",
    "print(\"not sure if a is less than b\")"
   ]
  },
  {
   "cell_type": "code",
   "execution_count": 11,
   "metadata": {},
   "outputs": [
    {
     "name": "stdout",
     "output_type": "stream",
     "text": [
      "c is Not less than d\n",
      "I dont think c is less than d\n",
      "print statement is outside the block\n"
     ]
    }
   ],
   "source": [
    "c = 5 \n",
    "d = 4 \n",
    "if c < d:\n",
    "    print(\"c is less than d\")\n",
    "else :\n",
    "    print(\"c is Not less than d\")\n",
    "    print(\"I dont think c is less than d\")\n",
    "print(\"print statement is outside the block\")"
   ]
  },
  {
   "cell_type": "code",
   "execution_count": 14,
   "metadata": {},
   "outputs": [
    {
     "name": "stdout",
     "output_type": "stream",
     "text": [
      "E is less than f\n"
     ]
    }
   ],
   "source": [
    "e = 7\n",
    "f = 8\n",
    "if e < f :\n",
    "    print(\"E is less than f\")\n",
    "elif e == f :\n",
    "    print(\"e is equal to f\")\n",
    "else :\n",
    "    print(\"E is greater than F\")"
   ]
  },
  {
   "cell_type": "code",
   "execution_count": 17,
   "metadata": {},
   "outputs": [
    {
     "name": "stdout",
     "output_type": "stream",
     "text": [
      "bmi is \n",
      "5.555555555555555\n",
      "Amar Bal\n",
      " is overweight\n"
     ]
    }
   ],
   "source": [
    "name = \"Amar Bal\"\n",
    "height = 3\n",
    "weight = 50\n",
    "bmi = weight / (height ** 2)\n",
    "print(\"bmi is \")\n",
    "print(bmi)\n",
    "if bmi < 32 :\n",
    "    print(name)\n",
    "    print(\" is overweight\")\n",
    "else:\n",
    "    print(name)\n",
    "    print(\" is healthy\")"
   ]
  },
  {
   "cell_type": "code",
   "execution_count": null,
   "metadata": {},
   "outputs": [],
   "source": []
  }
 ],
 "metadata": {
  "kernelspec": {
   "display_name": "Python 3",
   "language": "python",
   "name": "python3"
  },
  "language_info": {
   "codemirror_mode": {
    "name": "ipython",
    "version": 3
   },
   "file_extension": ".py",
   "mimetype": "text/x-python",
   "name": "python",
   "nbconvert_exporter": "python",
   "pygments_lexer": "ipython3",
   "version": "3.6.4"
  }
 },
 "nbformat": 4,
 "nbformat_minor": 2
}
