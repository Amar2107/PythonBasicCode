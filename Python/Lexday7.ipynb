{
 "cells": [
  {
   "cell_type": "code",
   "execution_count": null,
   "metadata": {},
   "outputs": [],
   "source": [
    "from Extra_Files import FlightManager"
   ]
  },
  {
   "cell_type": "code",
   "execution_count": null,
   "metadata": {},
   "outputs": [],
   "source": [
    "list1=[\"amar\"]\n",
    "FlightManager.add_new(list1)"
   ]
  },
  {
   "cell_type": "code",
   "execution_count": null,
   "metadata": {},
   "outputs": [],
   "source": [
    "from Extra_Files import demo"
   ]
  },
  {
   "cell_type": "code",
   "execution_count": null,
   "metadata": {},
   "outputs": [],
   "source": [
    "# from Flights.Manage import add as add1\n",
    "# from Employees.Manage import add as add2\n",
    "# add1()\n",
    "# add2()"
   ]
  },
  {
   "cell_type": "code",
   "execution_count": null,
   "metadata": {},
   "outputs": [],
   "source": [
    "#Random\n",
    "import random as r\n",
    "x=10\n",
    "y=100\n",
    "print(r.randrange(x,y))"
   ]
  },
  {
   "cell_type": "code",
   "execution_count": null,
   "metadata": {},
   "outputs": [],
   "source": [
    "import math as m\n",
    "num1=213.23\n",
    "num2=12.13\n",
    "num3=6\n",
    "print(\"factorial of \",num3,\":\",m.factorial(num3))\n",
    "print(\"The absolute value of \",num2,\":\",m.fabs(num2))\n",
    "print(\"The ciel of number\",num1,\" is \",m.ceil(num1),\" and floor is\",m.floor(num1))"
   ]
  },
  {
   "cell_type": "code",
   "execution_count": null,
   "metadata": {},
   "outputs": [],
   "source": [
    "boarding_call=\"Good Evening, this is the final call to AI passengers for the flight AI 466 which is planned to take off at 8.40A.M.\"\n",
    "\n",
    "if(boarding_call.startswith(\"Good Evening\")):\n",
    "    print(boarding_call.replace(\"Good Evening\",\"Good Morning\"))\n",
    "\n",
    "if(boarding_call.find(\"AI\"))>=0:\n",
    "    print(\"Welcome to Air India.\")\n",
    "\n",
    "if(boarding_call.endswith(\"A.M.\")):\n",
    "    print(\"Passengers are requested to have their breakfast.\")\n",
    "\n",
    "a=boarding_call.split(\" \")\n",
    "for i in a:\n",
    "    if(i.isdigit()):\n",
    "        print(\"Flight Number is specified to the passengers.\")\n",
    "\n",
    "print(\"Total number of times flight service name is specified in the boarding call:\",boarding_call.count(\"AI\"))\n",
    "\n",
    "\n",
    "message=\"Thank you all..Have a nice journey!\"\n",
    "\n",
    "print(message.upper())\n",
    "\n",
    "print(message.lower())"
   ]
  },
  {
   "cell_type": "code",
   "execution_count": null,
   "metadata": {},
   "outputs": [],
   "source": [
    "song=\"JINGLE Bells jingle Bells Jingle All The Way\"\n",
    "song.upper()\n",
    "song_words=song.split()\n",
    "print(song_words)\n",
    "count=0\n",
    "for word in song_words:\n",
    "    if(word.startswith(\"jingle\")):\n",
    "        count=count+1\n",
    "print(count)"
   ]
  },
  {
   "cell_type": "code",
   "execution_count": null,
   "metadata": {},
   "outputs": [],
   "source": [
    "def count_names(name_list):\n",
    "    count1=0\n",
    "    count2=0\n",
    "    for i in name_list:\n",
    "        if i.endswith(\"at\") and not i.startswith(\"at\"):\n",
    "            count1 +=1\n",
    "        if i.find(\"at\")>=0:\n",
    "            count2 +=1\n",
    "    print(\"_at -> \",count1)\n",
    "    print(\"%at% -> \",count2)"
   ]
  },
  {
   "cell_type": "code",
   "execution_count": null,
   "metadata": {},
   "outputs": [],
   "source": [
    "name_list=[\"Hat\",\"Cat\",\"Rabbit\",\"Matter\"]\n",
    "count_names(name_list)"
   ]
  },
  {
   "cell_type": "code",
   "execution_count": null,
   "metadata": {},
   "outputs": [],
   "source": [
    "mark_list=[78,90,90,95,83,95]\n",
    "\n",
    "mark_pos=mark_list.index(90)\n",
    "print(\"Index position of mark 90:\", mark_pos)\n",
    "\n",
    "mark_list.append(54)\n",
    "print(\"After adding new marks:\",mark_list)\n",
    "\n",
    "mark_list.insert(2, 98)\n",
    "print(\"After inserting 98 at the 2nd index position:\",mark_list)\n",
    "\n",
    "mark_list.pop(1)\n",
    "print(\"After removing the marks at the 1st index position:\",mark_list)\n",
    "\n",
    "mark_list.remove(95)\n",
    "print(\"After removing the first occurence of 95 from the list:\",mark_list)\n",
    "\n",
    "mark_list.sort()\n",
    "print(\"After sorting the marks in the given list:\",mark_list)\n",
    "\n",
    "mark_list.reverse()\n",
    "print(\"After reversing the marks in the given list:\",mark_list)"
   ]
  },
  {
   "cell_type": "code",
   "execution_count": null,
   "metadata": {},
   "outputs": [],
   "source": [
    "import math\n",
    "num_list=[100.5,30.465,-1.22,20.15]\n",
    "num_list.insert(1, -100.5)\n",
    "print(num_list.pop(0))\n",
    "num_list.sort()\n",
    "print(num_list)\n",
    "print(math.ceil(math.fabs(num_list[0])))"
   ]
  },
  {
   "cell_type": "code",
   "execution_count": null,
   "metadata": {},
   "outputs": [],
   "source": [
    "crew_details={\n",
    "              \"Pilot\":\"Kumar\",\n",
    "              \"Co-pilot\":\"Raghav\",\n",
    "              \"Head-Strewardess\":\"Malini\",\n",
    "              \"Stewardess\":\"Mala\"\n",
    "              }\n",
    "\n",
    "for key, value in crew_details.items():\n",
    "    print(key,\":\",value)\n",
    "print(\"===== after operations ======\")\n",
    "print(crew_details.get(\"Pilot\"))\n",
    "crew_details.update({\"Flight Attendant\":\"Jane\", \"Co-pilot\":\"Henry\"})\n",
    "for key, value in crew_details.items():\n",
    "    print(key,\":\",value)"
   ]
  },
  {
   "cell_type": "code",
   "execution_count": null,
   "metadata": {},
   "outputs": [],
   "source": [
    "crew_details={\n",
    "    \"Pilot\":\"Kumar\",\n",
    "    \"Co-pilot\":\"Raghav\",\n",
    "    \"Head-Strewardess\":\"Malini\",\n",
    "    \"Stewardess\":\"Mala\"\n",
    "}\n",
    "print(\"Before update:\")\n",
    "print(\"Co-pilot:\",crew_details.get(\"Co-pilot\"))\n",
    "\n",
    "crew_details.update({\"Flight Attendant\":\"Jane\", \"Co-pilot\":\"Henry\"})\n",
    "\n",
    "print(\"\\nAfter update:\")\n",
    "print(\"Co-pilot:\",crew_details.get(\"Co-pilot\"))\n",
    "print(\"Flight Attendant:\",crew_details[\"Flight Attendant\"])"
   ]
  },
  {
   "cell_type": "code",
   "execution_count": null,
   "metadata": {},
   "outputs": [],
   "source": [
    "sample_dict={'a':1,'b':2}\n",
    "sample_dict.update({'b':5, 'c':10 })\n",
    "print(sample_dict.get('a'),sample_dict.get('b'),sample_dict.get('c'))"
   ]
  },
  {
   "cell_type": "code",
   "execution_count": null,
   "metadata": {},
   "outputs": [],
   "source": [
    "import time\n",
    "import datetime\n",
    "\n",
    "#To get current GM time\n",
    "print(\"Current GM time:\",time.gmtime())\n",
    "#This returns a time structure containing 9 values - year, month,day, hour, minute, sec, day of week, day of year and daylight savings.\n",
    "\n",
    "#To get current local time\n",
    "print(\"Current local time:\",time.localtime())\n",
    "#This also returns a time structure containing 9 values - year, month,day, hour, minute, sec, day of week, day of year and daylight savings.\n",
    "\n",
    "#To extract today's date in a specified string format\n",
    "print(\"Today's date using time module\",time.strftime(\"%d/%m/%Y\"))\n",
    "\n",
    "#Python additionally allows use of  datetime module\n",
    "#Prints today's date\n",
    "print(\"Today's date using datetime module:\", datetime.date.today())\n",
    "\n",
    "#To extract today's date in a specified string format\n",
    "print(\"Today's date (dd/mm/yyyy) using datetime module:\", datetime.date.today().strftime(\"%d/%m/%Y\"))\n",
    "\n",
    "\n",
    "#To convert a date in string format to datetime value\n",
    "print(\"Today's date (dd/mm/yyyy):\", datetime.datetime.strptime(\"17/04/2016\",\"%d/%m/%Y\"))"
   ]
  },
  {
   "cell_type": "code",
   "execution_count": null,
   "metadata": {},
   "outputs": [],
   "source": [
    "import os\n",
    "d=os.getcwd()\n",
    "d1=os.path.join(d,\"Extra_Files\")\n",
    "try:\n",
    "    c = open(d1+\"/modified.txt\",\"r\")\n",
    "    text=c.read()\n",
    "    print(text)\n",
    "    c.write(\",Good Morning\")\n",
    "    c.close()\n",
    "except:\n",
    "    print(\"Error occured\")\n",
    "finally:\n",
    "    print(\"File is being closed\")\n",
    "    c.close()\n",
    "    if c.closed:\n",
    "        print(\"File is closed\")\n",
    "    else:\n",
    "        print(\"File is open\")"
   ]
  },
  {
   "cell_type": "code",
   "execution_count": null,
   "metadata": {},
   "outputs": [],
   "source": [
    "try:\n",
    "    hello_file=open(\"flight.txt\",\"w\")\n",
    "    text=\"Hello everyone! Welcome\"\n",
    "    hello_file.write(text)\n",
    "except:\n",
    "    print(\"Error occurred, not able to write to file\")\n",
    "finally:\n",
    "    hello_file.close()\n",
    "try:\n",
    "    hello_file=open(\"flights.txt\",\"r\")\n",
    "    text_from_file=hello_file.read()\n",
    "    print(text_from_file)\n",
    "except:\n",
    "    print(\"Error Occurred, not able to read from file\")\n",
    "finally:\n",
    "    hello_file.close()"
   ]
  },
  {
   "cell_type": "code",
   "execution_count": null,
   "metadata": {},
   "outputs": [],
   "source": [
    "try:\n",
    "    hello_file=open(\"flight.txt\",\"w\")\n",
    "    text=\"Hello everyone! Welcome\"\n",
    "    hello_file.write(text)\n",
    "except:\n",
    "    print(\"Error occurred, not able to write to file\")\n",
    "finally:\n",
    "    hello_file.close()\n",
    "try:\n",
    "    hello_file=open(\"flight.txt\",\"r\")\n",
    "    text_from_file=hello_file.read()\n",
    "    print(text_from_file)\n",
    "except:\n",
    "    print(\"Error Occurred, not able to read from file\")\n",
    "finally:\n",
    "    hello_file.close()"
   ]
  },
  {
   "cell_type": "code",
   "execution_count": null,
   "metadata": {},
   "outputs": [],
   "source": [
    "#PF-Assgn-46\n",
    "\n",
    "def nearest_palindrome(number):\n",
    "    s=str(number)\n",
    "    split = -((-len(s))//2)\n",
    "    if len(s)%2 != 0:\n",
    "        s1 = s[:split-1]\n",
    "        print(\"split1\",s1)\n",
    "        s2 = s[:split]+s1[::-1]\n",
    "        print(\"split 2\",s[split:])\n",
    "        print(\"Enter odd\")\n",
    "    else:\n",
    "        s1 = s[:split]\n",
    "        print(\"split 1\",s1)\n",
    "        s2 = s[:split]+s1[::-1]\n",
    "        print(\"split2\",s[split:])\n",
    "        print(\"Enter even\")\n",
    "    number = int(s2)\n",
    "    return number\n"
   ]
  },
  {
   "cell_type": "code",
   "execution_count": null,
   "metadata": {},
   "outputs": [],
   "source": [
    "number=1234\n",
    "print(nearest_palindrome(number))"
   ]
  },
  {
   "cell_type": "code",
   "execution_count": null,
   "metadata": {},
   "outputs": [],
   "source": [
    "def nearest(number):\n",
    "    numles = number -1\n",
    "    while str(numles)[::-1] != str(numles):\n",
    "        numles -=1\n",
    "    print(numles)\n",
    "    numgret = number +1\n",
    "    while str(numgret-1)[::-1]!=str(numgret):\n",
    "        numgret +1\n",
    "    print(numgret)\n",
    "    if number-numles > numgret-number:\n",
    "        return numgret\n",
    "    else:\n",
    "        return numles"
   ]
  },
  {
   "cell_type": "code",
   "execution_count": null,
   "metadata": {},
   "outputs": [],
   "source": [
    "print(nearest(123))"
   ]
  },
  {
   "cell_type": "code",
   "execution_count": 8,
   "metadata": {},
   "outputs": [
    {
     "data": {
      "text/plain": [
       "'ehT snu sesir ni eht stea'"
      ]
     },
     "execution_count": 8,
     "metadata": {},
     "output_type": "execute_result"
    }
   ],
   "source": [
    "sentence=\"The sun rises in the east\"\n",
    "vowel=set(\"aeiouAEIOU\")\n",
    "list1=sentence.split(\" \")\n",
    "for i in range(0,len(list1)):\n",
    "    if i%2==0:\n",
    "        list1[i] =list1[i][::-1]\n",
    "    else:\n",
    "        for j in list1[i]:\n",
    "            if j not in vowel:\n",
    "                s=s+j\n",
    "            else:\n",
    "                s1=s1+j\n",
    "        list1[i]=s+s1\n",
    "        s=\"\"\n",
    "        s1=\"\"\n",
    "str1=\" \".join(list1)\n",
    "str1"
   ]
  },
  {
   "cell_type": "code",
   "execution_count": 11,
   "metadata": {},
   "outputs": [],
   "source": [
    "def nearest(number):\n",
    "    st=str(number)\n",
    "    length = len(st)//2\n",
    "    nearest_pal=st[:length]+st[length]+st[length-1::-1]\n",
    "    return nearest_pal"
   ]
  },
  {
   "cell_type": "code",
   "execution_count": 16,
   "metadata": {},
   "outputs": [
    {
     "name": "stdout",
     "output_type": "stream",
     "text": [
      "12321\n"
     ]
    }
   ],
   "source": [
    "print(nearest(1231))"
   ]
  },
  {
   "cell_type": "code",
   "execution_count": 17,
   "metadata": {},
   "outputs": [
    {
     "name": "stdout",
     "output_type": "stream",
     "text": [
      "101\n",
      "1331\n"
     ]
    }
   ],
   "source": [
    "import sys\n",
    "def Next_smallest_Palindrome(num):\n",
    "    numstr = str(num)\n",
    "    for i in range(num+1,sys.maxsize):\n",
    "        if str(i) == str(i)[::-1]:\n",
    "            return i\n",
    "\n",
    "print(Next_smallest_Palindrome(99));\n",
    "print(Next_smallest_Palindrome(1221));\n"
   ]
  },
  {
   "cell_type": "code",
   "execution_count": 72,
   "metadata": {},
   "outputs": [
    {
     "data": {
      "text/plain": [
       "[0, 2, 3]"
      ]
     },
     "execution_count": 72,
     "metadata": {},
     "output_type": "execute_result"
    }
   ],
   "source": [
    "word_dict={\"CHECK\": \"CHEK\", \"RADIO\": \"RADICAL\",\"MIND\": \"MUND\",\"VENDOR\": \"VENDING\",\"ALWAYS\": \"ALLISWELL\"}\n",
    "list1=[]\n",
    "cor=0\n",
    "c2=0\n",
    "cw=0\n",
    "for key, value in word_dict.items():\n",
    "    if key == value:\n",
    "        cor +=1\n",
    "    else:\n",
    "        u = sum(a!=b for a, b in itertools.zip_longest(key, value))\n",
    "        if u<=2:\n",
    "            c2 +=1\n",
    "        else:\n",
    "            cw+=1\n",
    "list1.extend([cor,c2,cw])\n",
    "list1"
   ]
  },
  {
   "cell_type": "code",
   "execution_count": 73,
   "metadata": {},
   "outputs": [
    {
     "data": {
      "text/plain": [
       "2"
      ]
     },
     "execution_count": 73,
     "metadata": {},
     "output_type": "execute_result"
    }
   ],
   "source": [
    "key=\"CHECK\"\n",
    "value=\"CHEK\"\n",
    "u = sum(a!=b for a, b in itertools.zip_longest(key, value))\n",
    "u"
   ]
  },
  {
   "cell_type": "code",
   "execution_count": 94,
   "metadata": {},
   "outputs": [],
   "source": [
    "sentence=\"The sun rises i the east\"\n",
    "vowel=set(\"aeiouAEIOU\")\n",
    "list1=sentence.split(\" \")\n",
    "list2=[]\n",
    "for i in list1:\n",
    "    if len(i) == 1:\n",
    "        list2.append(i)\n",
    "    else:\n",
    "        s=\"\"\n",
    "        for x in i:\n",
    "            if x in vowel:\n",
    "                pass\n",
    "            else:\n",
    "                s=s+x\n",
    "        list2.append(s)\n",
    "# str1=\" \".join(list1)\n",
    "# str1"
   ]
  },
  {
   "cell_type": "code",
   "execution_count": 95,
   "metadata": {},
   "outputs": [
    {
     "name": "stdout",
     "output_type": "stream",
     "text": [
      "['Th', 'sn', 'rss', 'i', 'th', 'st']\n"
     ]
    }
   ],
   "source": [
    "print(list2)"
   ]
  },
  {
   "cell_type": "code",
   "execution_count": 1,
   "metadata": {},
   "outputs": [],
   "source": [
    "def find_near(word_dict):\n",
    "    output=[0,0,0]\n",
    "    for key, value in word_dict.items():\n",
    "        if key == value:\n",
    "            output[0] +=1\n",
    "        elif len(key) != len(value):\n",
    "            output[2] +=1\n",
    "        else:\n",
    "            count = 0\n",
    "            for x,y in zip(key,value):\n",
    "                if x != y:\n",
    "                    count+=1\n",
    "            if count >2:\n",
    "                output[2]+=1\n",
    "            else:\n",
    "                output[1]+=1\n",
    "    return output"
   ]
  },
  {
   "cell_type": "code",
   "execution_count": null,
   "metadata": {},
   "outputs": [],
   "source": []
  }
 ],
 "metadata": {
  "kernelspec": {
   "display_name": "Python 3",
   "language": "python",
   "name": "python3"
  },
  "language_info": {
   "codemirror_mode": {
    "name": "ipython",
    "version": 3
   },
   "file_extension": ".py",
   "mimetype": "text/x-python",
   "name": "python",
   "nbconvert_exporter": "python",
   "pygments_lexer": "ipython3",
   "version": "3.7.0"
  }
 },
 "nbformat": 4,
 "nbformat_minor": 2
}
