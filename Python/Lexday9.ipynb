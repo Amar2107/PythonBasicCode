{
 "cells": [
  {
   "cell_type": "code",
   "execution_count": null,
   "metadata": {},
   "outputs": [],
   "source": [
    "import itertools\n",
    "myInt = 123\n",
    "list1=[]\n",
    "l = itertools.permutations(str(myInt))\n",
    "list1=[int(''.join(x)) for x in l]\n",
    "for i in list1:\n",
    "    print(i)"
   ]
  },
  {
   "cell_type": "code",
   "execution_count": null,
   "metadata": {},
   "outputs": [],
   "source": [
    "#PF-Assgn-57\n",
    "import math\n",
    "import itertools\n",
    "primeList=[]\n",
    "def check_prime(number):\n",
    "    if number == 2:  \n",
    "        primeList.append(2)  \n",
    "        return True  \n",
    "    elif number < 2:  \n",
    "        return False  \n",
    "    else:  \n",
    "        for i in primeList:  \n",
    "            if i > math.sqrt(number):\n",
    "                break\n",
    "            elif number % i == 0:\n",
    "                return False\n",
    "        primeList.append(number)\n",
    "        return True\n",
    "\n",
    "def rotations(num):\n",
    "    list1 = []\n",
    "    m = str(num)\n",
    "    counter = 0\n",
    "    while counter < len(str(num)):\n",
    "        m = m[1:] + m[0]\n",
    "        list1.append(int(m))\n",
    "        counter += 1\n",
    "    return list1\n",
    "\n",
    "def get_circular_prime_count(limit):\n",
    "    list1=[]\n",
    "    list2=[]\n",
    "    for i in range(1,limit):\n",
    "        list1=rotations(i)\n",
    "        flag=1\n",
    "        for j in list1:\n",
    "            if not(check_prime(j)):\n",
    "                flag = 0\n",
    "        if flag:\n",
    "            list2.append(i)\n",
    "    return list2\n",
    "print(get_circular_prime_count(100))"
   ]
  },
  {
   "cell_type": "code",
   "execution_count": null,
   "metadata": {},
   "outputs": [],
   "source": [
    "list1=[971,791,179]\n",
    "list1=sorted(list1)\n",
    "print(list1)"
   ]
  },
  {
   "cell_type": "code",
   "execution_count": null,
   "metadata": {},
   "outputs": [],
   "source": [
    "i=0\n",
    "j=10\n",
    "while i<= 10 and j>=1:\n",
    "    print(i,j)\n",
    "    j=j-1\n",
    "    i=i+1\n",
    "    if(i==j):\n",
    "        break"
   ]
  },
  {
   "cell_type": "code",
   "execution_count": null,
   "metadata": {},
   "outputs": [],
   "source": [
    "def cal(x,y):\n",
    "    while x!=y:\n",
    "        if x>y:\n",
    "            return cal(x-y,x)\n",
    "        else:\n",
    "            return cal(x,y-x)\n",
    "    return x"
   ]
  },
  {
   "cell_type": "code",
   "execution_count": null,
   "metadata": {},
   "outputs": [],
   "source": [
    "cal(10,55)\n",
    "#cal(60,30)\n",
    "#cal(27,47)\n",
    "#cal(45,20)"
   ]
  },
  {
   "cell_type": "code",
   "execution_count": null,
   "metadata": {},
   "outputs": [],
   "source": [
    "elements=[2,5,6,0]\n",
    "try:\n",
    "    div=elements[4]/elements[3]\n",
    "except ZeroDivisionError:\n",
    "    print(\"Infinity\")\n",
    "except IndexError:\n",
    "    print(\"Index Error\")\n",
    "except Exception:\n",
    "    print(\"0\")\n",
    "finally:\n",
    "    print(\"In finally block\")"
   ]
  },
  {
   "cell_type": "code",
   "execution_count": null,
   "metadata": {},
   "outputs": [],
   "source": [
    "import math\n",
    "list1=[32.5,44.2,66.6,78.4,99.2]\n",
    "for i in range(0,len(list1)):\n",
    "    list1[i]=math.ceil(list1[i])\n",
    "list1.reverse()\n",
    "print(list1)"
   ]
  },
  {
   "cell_type": "code",
   "execution_count": null,
   "metadata": {},
   "outputs": [],
   "source": [
    "import re\n",
    "string = \"Amar Bal\"\n",
    "re.sub(\"Bal\",\"BAL\",string)"
   ]
  },
  {
   "cell_type": "code",
   "execution_count": null,
   "metadata": {},
   "outputs": [],
   "source": [
    "str1"
   ]
  },
  {
   "cell_type": "code",
   "execution_count": null,
   "metadata": {},
   "outputs": [],
   "source": [
    "#PF-Prac-2\n",
    "def bracket_pattern(input_str):\n",
    "    #Remove pass and write your code here\n",
    "\ta=input_str.count(\"(\")\n",
    "\tb=input_str.count(\")\")\n",
    "\tif a == b:\n",
    "\t    if input_str.startswith(\")\")  and input_str.endswith(\"(\"):\n",
    "\t        return False\n",
    "\t    else:\n",
    "\t        return True\n",
    "\telse:\n",
    "\t    return False\n",
    "\n",
    "    \n",
    "input_str=\"(()\"\n",
    "print(bracket_pattern(input_str))"
   ]
  },
  {
   "cell_type": "code",
   "execution_count": null,
   "metadata": {},
   "outputs": [],
   "source": [
    "n = 20\n",
    "if n in range(5,20):\n",
    "    print(\"The number\")\n",
    "else:\n",
    "    print(\"What\")"
   ]
  },
  {
   "cell_type": "code",
   "execution_count": null,
   "metadata": {},
   "outputs": [],
   "source": [
    "def listch():\n",
    "    for i in range(0,10):\n",
    "        if i%2 == 0:\n",
    "            print(i)\n",
    "        else:\n",
    "            continue"
   ]
  },
  {
   "cell_type": "code",
   "execution_count": null,
   "metadata": {},
   "outputs": [],
   "source": [
    "listch()"
   ]
  },
  {
   "cell_type": "code",
   "execution_count": null,
   "metadata": {},
   "outputs": [],
   "source": [
    "string=\"Amar Bal\"\n",
    "string[-2:]"
   ]
  },
  {
   "cell_type": "code",
   "execution_count": null,
   "metadata": {},
   "outputs": [],
   "source": [
    "for i in range(10,1,-1):\n",
    "    print(i)"
   ]
  },
  {
   "cell_type": "code",
   "execution_count": null,
   "metadata": {},
   "outputs": [],
   "source": [
    "import re\n",
    "string =\"amar1\"\n",
    "s=re.search(\"\\1\",string)\n",
    "print(s)"
   ]
  },
  {
   "cell_type": "code",
   "execution_count": null,
   "metadata": {},
   "outputs": [],
   "source": [
    "num_list=[44,23,77,11,89,3]\n",
    "sum(num_list)"
   ]
  },
  {
   "cell_type": "code",
   "execution_count": null,
   "metadata": {},
   "outputs": [],
   "source": [
    "#PF-Prac-38\n",
    "def build_index_grid(rows, columns):\n",
    "    result_list=[]\n",
    "    for i in range(0,rows):\n",
    "        list1=[]\n",
    "        for j in range(0,columns):\n",
    "            string=str(i)+\",\"+str(j)\n",
    "            list1.append(string)\n",
    "        result_list.append(list1)\n",
    "    return result_list\n",
    "\n",
    "rows=4\n",
    "columns=3\n",
    "result=build_index_grid(rows,columns)\n",
    "for i in result:\n",
    "    print(i)"
   ]
  },
  {
   "cell_type": "code",
   "execution_count": null,
   "metadata": {},
   "outputs": [],
   "source": [
    "#PF-Tryout\n",
    "\n",
    "def doublePreceding (values):\n",
    "    if len(values) > 0:\n",
    "        previous = values[0]\n",
    "        values[0] = 0\n",
    "        for idx in range(1, len(values)):\n",
    "            t=values[idx]\n",
    "            values[idx] = 2 * previous\n",
    "            previous = t\n",
    "            print(previous)\n",
    "    return values\n",
    "    \n",
    "print(doublePreceding([3,8,2]))"
   ]
  },
  {
   "cell_type": "code",
   "execution_count": null,
   "metadata": {},
   "outputs": [],
   "source": [
    "#PF-Prac-13\n",
    "import math as m\n",
    "def close_number(num1,num2,num3):\n",
    "    if m.fabs(num1-num3) <= 1:\n",
    "        if m.fabs(num2-num3)>=2 and m.fabs(num2-num1)>=2:\n",
    "            return True\n",
    "    elif m.fabs(num2-num3) <= 1:\n",
    "        if m.fabs(num1-num3)>=2 and m.fabs(num1-num2)>=2:\n",
    "            return True\n",
    "    elif m.fabs(num1-num2) <= 1:\n",
    "        if m.fabs(num1-num3)>=2 and m.fabs(num2-num3)>=2:\n",
    "            return True\n",
    "    return False\n",
    "    \n",
    "print(close_number(5,6,8))"
   ]
  },
  {
   "cell_type": "code",
   "execution_count": null,
   "metadata": {},
   "outputs": [],
   "source": [
    "#PF-Prac-16\n",
    "def rotate_list(input_list,n):\n",
    "    \n",
    "    \n",
    "    return output_list\n",
    "\n",
    "input_list= [1,2,3,4,5,6]\n",
    "output_list=rotate_list(input_list,4)\n",
    "print(output_list)"
   ]
  },
  {
   "cell_type": "code",
   "execution_count": null,
   "metadata": {},
   "outputs": [],
   "source": [
    "number=[1,2,3,4,5,6]\n",
    "number[:2]"
   ]
  },
  {
   "cell_type": "code",
   "execution_count": null,
   "metadata": {},
   "outputs": [],
   "source": [
    "#PF-Prac-21\n",
    "def check_numbers(num1,num2):\n",
    "    num_list=[]\n",
    "    #start writing your code here\n",
    "    for i in range(10,30):\n",
    "        for j in range(10,30+1):\n",
    "            if j%i==0 and i!=j:\n",
    "                num_list.append(j)\n",
    "            else:\n",
    "                continue\n",
    "    num_list=list(set(num_list))\n",
    "    count=len(num_list)\n",
    "    return [num_list,count]\n",
    "\n",
    "num1=2\n",
    "num2=20\n",
    "print(check_numbers(num1, num2))"
   ]
  },
  {
   "cell_type": "code",
   "execution_count": null,
   "metadata": {},
   "outputs": [],
   "source": [
    "import os\n",
    "d=os.getcwd()\n",
    "f=open(d+\"/Extra_Files/file.txt\",\"r\") \n",
    "f.contents=f.readlines()\n",
    "print(f.contents)\n",
    "f.close()\n",
    "f=open(d+\"/Extra_Files/file.txt\",\"w\")\n",
    "f.write(\"This is another new line\")\n",
    "f.close()"
   ]
  },
  {
   "cell_type": "code",
   "execution_count": null,
   "metadata": {},
   "outputs": [],
   "source": [
    "with open(d+\"/Extra_Files/file.txt\",\"r\") as rf:\n",
    "    with open(d+\"/Extra_Files/file_copy.txt\",\"w\") as wf:\n",
    "        i=0\n",
    "        for line in rf:\n",
    "            string=str(i)+\" \"+line\n",
    "            wf.write(string)\n",
    "            i+=1\n",
    "rf.close()\n",
    "wf.close()"
   ]
  },
  {
   "cell_type": "code",
   "execution_count": null,
   "metadata": {},
   "outputs": [],
   "source": [
    "with open(d+\"/Extra_Files/file.txt\",\"a\") as af:\n",
    "          af.write(\"This is the new file now\\n where are those new shoes\")\n",
    "af.close()"
   ]
  },
  {
   "cell_type": "code",
   "execution_count": null,
   "metadata": {},
   "outputs": [],
   "source": [
    "f=open(d+\"/Extra_Files/file_copy.txt\",\"r\")\n",
    "f.contents = f.readlines()\n",
    "print(f.contents)"
   ]
  },
  {
   "cell_type": "code",
   "execution_count": null,
   "metadata": {},
   "outputs": [],
   "source": [
    "import math\n",
    "flag=0\n",
    "for i in range(1,101):\n",
    "    for j in range(1,101):\n",
    "        if i*i+j*j == 100:\n",
    "            flag=1\n",
    "            break\n",
    "        else:\n",
    "            flag=0\n",
    "    if flag == 1:\n",
    "        break\n",
    "if flag == 1:\n",
    "    print(\"True\")\n",
    "else:\n",
    "    print(\"False\")"
   ]
  },
  {
   "cell_type": "code",
   "execution_count": null,
   "metadata": {},
   "outputs": [],
   "source": [
    "def func(arg):\n",
    "    if not isinstance(arg, (list, tuple)):\n",
    "        print(\"False\")\n",
    "    else:\n",
    "        print(\"True\")\n",
    "\n",
    "func('abc')\n",
    "#func(['abc', '123'])"
   ]
  },
  {
   "cell_type": "code",
   "execution_count": null,
   "metadata": {},
   "outputs": [],
   "source": [
    "def int_to_Roman(num):\n",
    "    val = (1000, 900,  500, 400, 100,  90, 50,  40, 10,  9,   5,  4,   1)\n",
    "    syb = ('M',  'CM', 'D', 'CD','C', 'XC','L','XL','X','IX','V','IV','I')\n",
    "    roman_num = \"\"\n",
    "    for i in range(len(val)):\n",
    "        count = int(num / val[i])\n",
    "        roman_num += syb[i] * count\n",
    "        num -= val[i] * count\n",
    "    return roman_num"
   ]
  },
  {
   "cell_type": "code",
   "execution_count": null,
   "metadata": {},
   "outputs": [],
   "source": [
    "print(int_to_Roman(100))"
   ]
  },
  {
   "cell_type": "code",
   "execution_count": null,
   "metadata": {},
   "outputs": [],
   "source": [
    "def find_target_positions(input_string, target_word):\n",
    "    target_list=[]\n",
    "    #Start writing your code here\n",
    "    list1=input_string.split(\" \")\n",
    "    for i in range(0,len(list1)):\n",
    "        if list1[i] == target_word:\n",
    "            target_list.append(i)\n",
    "    return target_list        "
   ]
  },
  {
   "cell_type": "code",
   "execution_count": null,
   "metadata": {},
   "outputs": [],
   "source": [
    "print(find_target_positions(\"where are those are th are\",\"are\"))"
   ]
  },
  {
   "cell_type": "code",
   "execution_count": null,
   "metadata": {},
   "outputs": [],
   "source": [
    "def find_inverted_index(input_string):\n",
    "    target_dict={}\n",
    "    list1 = input_string.split(\" \")\n",
    "    for i in list1:\n",
    "        target_dict[i] = find_target_positions(input_string,i)\n",
    "    return target_dict\n",
    "    "
   ]
  },
  {
   "cell_type": "code",
   "execution_count": null,
   "metadata": {},
   "outputs": [],
   "source": [
    "print(find_inverted_index(\"we dont need no education we dont need no thought control no we dont\"))"
   ]
  },
  {
   "cell_type": "code",
   "execution_count": null,
   "metadata": {},
   "outputs": [],
   "source": [
    "cities = [ \n",
    "{'Name':'Vancouver','State':'WA','Population':161791},\n",
    "{'Name':'Salem','State':'OR','Population':154637},\n",
    "{'Name':'Seattle','State':'WA','Population':608660},\n",
    "{'Name':'Spokane','State':'WA','Population':208916}\n",
    "]\n",
    "v={}\n",
    "max1=0\n",
    "for v in cities:\n",
    "    if v['Population']>max1 and v['State']=='WA':\n",
    "        max1 = v['Population']\n",
    "        d=v\n",
    "print(d)"
   ]
  },
  {
   "cell_type": "code",
   "execution_count": null,
   "metadata": {},
   "outputs": [],
   "source": [
    "cities_dict = [\n",
    " {'Name':'Vancouver','State':'WA','Population':161791},\n",
    " {'Name':'Salem','State':'OR','Population':154637},\n",
    " {'Name':'Seattle','State':'WA','Population':80885},\n",
    " {'Name':'Bellingham','State':'WA','Population':608660},\n",
    " {'Name':'Spokane','State':'WA','Population':208916},\n",
    " {'Name':'Bellevue','State':'WA','Population':608660},\n",
    " {'Name':'Portland','State':'OR','Population':583776}\n",
    " ]\n",
    "v={}\n",
    "max1=0\n",
    "cities = sorted(cities_dict, key=lambda k: k['Name']) \n",
    "for v in cities:\n",
    "    if v['Population']>max1 and v['State']=='WA':\n",
    "        max1 = v['Population']\n",
    "        max_populated_city=v\n",
    "print(max_populated_city)"
   ]
  },
  {
   "cell_type": "code",
   "execution_count": null,
   "metadata": {},
   "outputs": [],
   "source": [
    "num_list=[[1, 3, 3], [12, 4, 12, 7, 4, 4], [41, 2, 4, 7, 1, 12], [1, 2, 3, 4, 5, 6]]\n",
    "max1=0\n",
    "idx=0\n",
    "for i in range(0,len(num_list)):\n",
    "    sublist=set(num_list[i])\n",
    "    if len(sublist)>max1:\n",
    "        max1=len(sublist)\n",
    "        idx=i\n",
    "print(num_list[idx])"
   ]
  },
  {
   "cell_type": "code",
   "execution_count": 2,
   "metadata": {},
   "outputs": [
    {
     "name": "stdout",
     "output_type": "stream",
     "text": [
      "[16]\n"
     ]
    }
   ],
   "source": [
    "pixel_grid=[[ 4 ], \n",
    "             [ 16 ], \n",
    "             [ 3 ], \n",
    "             [ 0 ]]\n",
    "result = []\n",
    " # Copy first row as current \"max\" col values\n",
    "for col in range(len(pixel_grid[0])):\n",
    "    result.append(pixel_grid[0][col])\n",
    "\n",
    "for row in range(1, len(pixel_grid)):\n",
    "    for col in range(len(pixel_grid[0])):\n",
    "        if result[col] < pixel_grid[row][col]:\n",
    "            result[col] = pixel_grid[row][col]\n",
    "print(result)"
   ]
  },
  {
   "cell_type": "code",
   "execution_count": 13,
   "metadata": {},
   "outputs": [
    {
     "name": "stdout",
     "output_type": "stream",
     "text": [
      "{'train_no': 25627, 'name': 'Karnataka Express', 'from': 'SBC', 'to': 'DEC', 'days_of_run': ['Su', 'Tu'], 'sleeper_fare': 1600, 'ac_fare': 2500}\n",
      "[16453, 22642]\n",
      "5256\n"
     ]
    }
   ],
   "source": [
    "#PF-Prac-17\n",
    "train_list=[\n",
    "{\"train_no\":16453,\"name\":\"Prasanti Express\",\"from\":\"SBC\",\"to\":\"BBS\",\"days_of_run\":['Mo','We','Th'],\"sleeper_fare\":600,\"ac_fare\": 987},\n",
    "{\"train_no\":25627,\"name\":\"Karnataka Express\",\"from\":\"SBC\",\"to\":\"DEC\",\"days_of_run\":['Su','Tu'],\"sleeper_fare\":1600,\"ac_fare\": 2500},\n",
    "{\"train_no\":22642,\"name\":\"Trivandrum SF Express\",\"from\":\"VSKP\",\"to\":\"TVM\",\"days_of_run\":['Mo','Tu','We','Th','Fr','Sa'],\"sleeper_fare\":800,\"ac_fare\": 1256},\n",
    "{\"train_no\":22905,\"name\":\"Okha Howrah Express\",\"from\":\"ST\",\"to\":\"KOAA\",\"days_of_run\":['We','Sa'],\"sleeper_fare\":987,\"ac_fare\": 2879}]\n",
    "\n",
    "def get_train_name (train_no):\n",
    "    for k in train_list:\n",
    "        if k['train_no'] == train_no:\n",
    "            return k\n",
    "    return \"Invalid Train number\"\n",
    "\n",
    "def get_trains_for_day(day_of_run):\n",
    "    list1=[]\n",
    "    for k in train_list:\n",
    "        if day_of_run in k['days_of_run']:\n",
    "            list1.append(k['train_no'])\n",
    "    if not list1:\n",
    "        return \"Invalid day\"\n",
    "    else:\n",
    "        return list1\n",
    "\n",
    "def get_total_fare(train_no,passenger_dict):\n",
    "    for k in train_list:\n",
    "        if k['train_no'] == train_no:\n",
    "            s = k['sleeper_fare']\n",
    "            ac = k['ac_fare']\n",
    "        sl=passenger_dict['sleeper']\n",
    "        a=passenger_dict['ac']\n",
    "    total = sl*s + ac*a\n",
    "    return total\n",
    "print(get_train_name(25627))\n",
    "print(get_trains_for_day(\"Mo\"))\n",
    "print(get_total_fare(22642,{\"sleeper\":5, \"ac\":1}))"
   ]
  },
  {
   "cell_type": "code",
   "execution_count": 18,
   "metadata": {},
   "outputs": [
    {
     "name": "stdout",
     "output_type": "stream",
     "text": [
      "PF  -  Start Date:  01-03-2016  End Date:  7-03-2016\n",
      "PF  -  Start Date:  8-03-2016  End Date:  15-03-2016\n"
     ]
    }
   ],
   "source": [
    "#PF-Tryout\n",
    "def generate_schedule(module_list,duration_list,start_date):   \n",
    "    list1=start_date.split(\"-\")\n",
    "    date = int(list1[0])\n",
    "    list1[0] = str(date+duration_list[0]-1)\n",
    "    end_date1=\"-\".join(list1)\n",
    "    start1=end_date1.split(\"-\")\n",
    "    start1[0] = str(int(start1[0])+1)\n",
    "    start_date1=\"-\".join(start1)\n",
    "    end2=start_date1.split(\"-\")\n",
    "    end2[0]=str(int(end2[0])+duration_list[1]-1)\n",
    "    end_date2=\"-\".join(end2)\n",
    "    print(module_list[0],\" - \",\"Start Date: \",start_date,\" End Date: \",end_date1)\n",
    "    print(module_list[0],\" - \",\"Start Date: \",start_date1,\" End Date: \",end_date2)\n",
    "    \n",
    "module_list=[\"PF\",\"OOP\"]\n",
    "duration_list=[7,8]\n",
    "start_date=\"01-03-2016\"\n",
    "generate_schedule(module_list, duration_list, start_date)"
   ]
  },
  {
   "cell_type": "code",
   "execution_count": 21,
   "metadata": {},
   "outputs": [
    {
     "name": "stdout",
     "output_type": "stream",
     "text": [
      "[653, 1201, 2209, 4063]\n"
     ]
    }
   ],
   "source": [
    "#PF-Prac-20\n",
    "def ducci_sequence(test_list,n):\n",
    "    final_list=[0,0,0,0]\n",
    "    if n!=0:\n",
    "        final_list[0]=test_list[1]-test_list[0]\n",
    "        final_list[1]=test_list[2]-test_list[1]\n",
    "        final_list[2]=test_list[3]-test_list[2]\n",
    "        final_list[3]=test_list[3]-test_list[0]\n",
    "        ducci_sequence(final_list,n-1)\n",
    "    return final_list\n",
    "\n",
    "ducci_element=ducci_sequence([0, 653, 1854, 4063] , 3)\n",
    "print(ducci_element)"
   ]
  },
  {
   "cell_type": "code",
   "execution_count": 42,
   "metadata": {},
   "outputs": [
    {
     "name": "stdout",
     "output_type": "stream",
     "text": [
      "credit card number is valid\n"
     ]
    }
   ],
   "source": [
    "#PF-Assgn-58\n",
    "def validate_credit_card_number(card_number):\n",
    "    list2=[]\n",
    "    list3=[]\n",
    "    list1=[ int(item) for item in str(card_number) ]\n",
    "    for i in range(len(list1)-1,-1,-2):\n",
    "        list2.append(list1[i])\n",
    "        list3.append(list1[i-1]*2)\n",
    "    for i in range(0,len(list3)):\n",
    "        if (list3[i]//10) > 0:\n",
    "            list3[i] = list3[i]%10+list3[i]//10\n",
    "    total=sum(list2)+sum(list3)\n",
    "    if total % 10 ==0:\n",
    "        return True\n",
    "    else:\n",
    "        return False\n",
    "card_number= 5239512608615007 #1456734512345698 #1456734512345698 #5239512608615007 #1456734512345698\n",
    "result=validate_credit_card_number(card_number)\n",
    "if(result):\n",
    "    print(\"credit card number is valid\")\n",
    "else:\n",
    "    print(\"credit card number is invalid\")"
   ]
  },
  {
   "cell_type": "code",
   "execution_count": 44,
   "metadata": {},
   "outputs": [],
   "source": [
    "def check_perfect_number(number):\n",
    "    sum1=0\n",
    "    for i in range(1,number):\n",
    "        if number%i == 0:\n",
    "            sum1+=i\n",
    "    if number == sum1:\n",
    "        return True\n",
    "    else:\n",
    "        return False"
   ]
  },
  {
   "cell_type": "code",
   "execution_count": 57,
   "metadata": {},
   "outputs": [
    {
     "name": "stdout",
     "output_type": "stream",
     "text": [
      "False\n",
      "False\n",
      "False\n",
      "False\n",
      "True\n"
     ]
    }
   ],
   "source": [
    "list1=[87, 76, 567, 99, 0]\n",
    "for i in list1:\n",
    "    print(check_perfect_number(i))\n"
   ]
  },
  {
   "cell_type": "code",
   "execution_count": 68,
   "metadata": {},
   "outputs": [
    {
     "name": "stdout",
     "output_type": "stream",
     "text": [
      "123456abz@#*\n",
      "None\n"
     ]
    }
   ],
   "source": [
    "#PF-Assgn-60\n",
    "def remove_duplicates(value):\n",
    "    value1=\"\"\n",
    "    for i in value:\n",
    "        if i not in value1:\n",
    "            value1=value1+i\n",
    "    print(value1)\n",
    "print(remove_duplicates(\"11223445566666ababzzz@@@123#*#*\"))"
   ]
  },
  {
   "cell_type": "code",
   "execution_count": 102,
   "metadata": {},
   "outputs": [
    {
     "name": "stdout",
     "output_type": "stream",
     "text": [
      "Invalid Name\n"
     ]
    }
   ],
   "source": [
    "#PF-Assgn-61\n",
    "import re\n",
    "def validate_name(name):\n",
    "    if  len(name)>15 or len(name)<1:\n",
    "        return False\n",
    "    else:\n",
    "        if re.search(r'\\d',name):\n",
    "            return False\n",
    "        else:\n",
    "            return True\n",
    "def validate_phone_no(phno):\n",
    "    if len(phno)>10:\n",
    "        return False\n",
    "    else:\n",
    "        if re.match(\"^[a-zA-Z0-9_]*$\", phno):\n",
    "            v=phno[1]\n",
    "            if phno.count(v)==len(phno):\n",
    "                return False\n",
    "            else:\n",
    "                return True\n",
    "        else:\n",
    "            return False\n",
    "def validate_email_id(email_id):\n",
    "    #Start writing your code here\n",
    "    if re.match(\"[A-Z0-9a-z]+@(gmail|hotmail|yahoo)\\.com\",email_id):\n",
    "        return True\n",
    "    else:\n",
    "        return False\n",
    "\n",
    "def validate_all(name,phone_no,email_id):\n",
    "    if validate_name(name):\n",
    "        if validate_phone_no(phone_no):\n",
    "            if validate_email_id(email_id):\n",
    "                print(\"All the details are valid\")\n",
    "            else:\n",
    "                print(\"Invalid email id\")\n",
    "        else:\n",
    "            print(\"Invalid phone number\")\n",
    "    else:\n",
    "        print(\"Invalid Name\")\n",
    "\n",
    "# print(validate_name(\"amar\"))\n",
    "# print(validate_phone_no(\"999999\"))\n",
    "# print(validate_email_id(\"tina@facebook.com\"))\n",
    "#Provide different values for name, phone_no and email_id and test your program\n",
    "validate_all(\"\", \"9994599998\", \"tina@yahoo.com\")"
   ]
  },
  {
   "cell_type": "code",
   "execution_count": null,
   "metadata": {},
   "outputs": [],
   "source": []
  }
 ],
 "metadata": {
  "kernelspec": {
   "display_name": "Python 3",
   "language": "python",
   "name": "python3"
  },
  "language_info": {
   "codemirror_mode": {
    "name": "ipython",
    "version": 3
   },
   "file_extension": ".py",
   "mimetype": "text/x-python",
   "name": "python",
   "nbconvert_exporter": "python",
   "pygments_lexer": "ipython3",
   "version": "3.7.0"
  }
 },
 "nbformat": 4,
 "nbformat_minor": 2
}
