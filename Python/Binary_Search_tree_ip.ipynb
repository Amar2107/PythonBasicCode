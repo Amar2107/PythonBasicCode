{
 "cells": [
  {
   "cell_type": "code",
   "execution_count": 4,
   "metadata": {},
   "outputs": [],
   "source": [
    "class Node:\n",
    "    def __init__(self,key):\n",
    "        self.left = None\n",
    "        self.right = None\n",
    "        self.val = key"
   ]
  },
  {
   "cell_type": "code",
   "execution_count": 5,
   "metadata": {},
   "outputs": [],
   "source": [
    "def insert(root,node):\n",
    "    if root is None:\n",
    "        root = node\n",
    "    else:\n",
    "        if root.val < node.val:\n",
    "            if root.right is None:\n",
    "                root.right = node\n",
    "            else:\n",
    "                insert(root.right,node)\n",
    "        else:\n",
    "            if root.left is None:\n",
    "                root.left = node\n",
    "            else:\n",
    "                insert(root.left,node)\n",
    "        "
   ]
  },
  {
   "cell_type": "code",
   "execution_count": 6,
   "metadata": {},
   "outputs": [],
   "source": [
    "def inorder(root):\n",
    "    inorder(root.left)\n",
    "    print (root.val)\n",
    "    inorder(root.right)"
   ]
  },
  {
   "cell_type": "code",
   "execution_count": null,
   "metadata": {},
   "outputs": [],
   "source": [
    "o = input(\"Enter the root node\")\n",
    "r = Node(0)\n",
    "o = input(\"Enter the root node\")\n",
    "insert(r,o)\n",
    "o = input(\"Enter the root node\")\n",
    "insert(r,o)\n",
    "o = input(\"Enter the root node\")\n",
    "insert(r,o)\n",
    "o = input(\"Enter the root node\")\n",
    "insert(r,o)\n",
    "o = input(\"Enter the root node\")\n",
    "insert(r,o)\n",
    "o = input(\"Enter the root node\")\n",
    "insert(r,o)\n",
    "o = input(\"Enter the root node\")\n",
    "insert(r,o)\n"
   ]
  },
  {
   "cell_type": "code",
   "execution_count": null,
   "metadata": {},
   "outputs": [],
   "source": [
    "inorder(r)"
   ]
  },
  {
   "cell_type": "code",
   "execution_count": null,
   "metadata": {},
   "outputs": [],
   "source": []
  }
 ],
 "metadata": {
  "kernelspec": {
   "display_name": "Python 3",
   "language": "python",
   "name": "python3"
  },
  "language_info": {
   "codemirror_mode": {
    "name": "ipython",
    "version": 3
   },
   "file_extension": ".py",
   "mimetype": "text/x-python",
   "name": "python",
   "nbconvert_exporter": "python",
   "pygments_lexer": "ipython3",
   "version": "3.6.4"
  }
 },
 "nbformat": 4,
 "nbformat_minor": 2
}
