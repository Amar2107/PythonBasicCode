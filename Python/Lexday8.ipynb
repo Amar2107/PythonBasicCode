{
 "cells": [
  {
   "cell_type": "code",
   "execution_count": 5,
   "metadata": {},
   "outputs": [
    {
     "data": {
      "text/plain": [
       "<re.Match object; span=(15, 23), match='Airlines'>"
      ]
     },
     "execution_count": 5,
     "metadata": {},
     "output_type": "execute_result"
    }
   ],
   "source": [
    "import re\n",
    "Input_data =\"Flight Savaana Airlines a2134\"\n",
    "re.search(\"Airlines\",Input_data)"
   ]
  },
  {
   "cell_type": "code",
   "execution_count": 37,
   "metadata": {},
   "outputs": [
    {
     "data": {
      "text/plain": [
       "<re.Match object; span=(0, 3), match='Air'>"
      ]
     },
     "execution_count": 37,
     "metadata": {},
     "output_type": "execute_result"
    }
   ],
   "source": [
    "import re\n",
    "v = re.search(r\"Air\",\"Airline Air ben CONAIR\")\n",
    "v"
   ]
  },
  {
   "cell_type": "code",
   "execution_count": 8,
   "metadata": {},
   "outputs": [
    {
     "name": "stdout",
     "output_type": "stream",
     "text": [
      "Pattern found\n"
     ]
    }
   ],
   "source": [
    "# To search the pattern having two characters in **between A and l** in the given string \"Aopline\"\n",
    "import re\n",
    "if(re.search(r\"A..l\",\"Aopline\")!=None):\n",
    "    print(\"Pattern found\")\n",
    "else:\n",
    "    print(\"Pattern not found\")"
   ]
  },
  {
   "cell_type": "code",
   "execution_count": 9,
   "metadata": {},
   "outputs": [
    {
     "name": "stdout",
     "output_type": "stream",
     "text": [
      "Pattern found\n"
     ]
    }
   ],
   "source": [
    "# To search for a *DIGITS* between A and l in the given string \"A2line\".\n",
    "if(re.search(r\"A\\dl\",\"A2line\")!=None):\n",
    "    print(\"Pattern found\")\n",
    "else:\n",
    "    print(\"Pattern not found\")"
   ]
  },
  {
   "cell_type": "code",
   "execution_count": 10,
   "metadata": {},
   "outputs": [
    {
     "name": "stdout",
     "output_type": "stream",
     "text": [
      "Pattern not found\n"
     ]
    }
   ],
   "source": [
    "# To search for a number between 4 and 8 in between A and l in the given string.\n",
    "if(re.search(r\"A[4-8]l\",\"A2line\")!=None):\n",
    "    print(\"Pattern found\")\n",
    "else:\n",
    "    print(\"Pattern not found\")"
   ]
  },
  {
   "cell_type": "code",
   "execution_count": 20,
   "metadata": {},
   "outputs": [
    {
     "name": "stdout",
     "output_type": "stream",
     "text": [
      "Pattern found\n",
      "Pattern not found\n",
      "Pattern found\n",
      "Pattern not found\n",
      "Pattern found\n",
      "Pattern found\n",
      "Pattern found\n",
      "Pattern found\n",
      "Plane Savana Airlines a2134\n",
      "Flight Savana Airlines A2134\n"
     ]
    }
   ],
   "source": [
    "# To search for the pattern \"Hell\" or \"Fell\" in the given string \"Fellow\"\n",
    "if(re.search(r\"Hell|Fell\",\"Fellow\")!=None):\n",
    "    print(\"Pattern found\")\n",
    "else:\n",
    "    print(\"Pattern not found\")\n",
    "#To check for the space after \"Air\" in the given string \"Airline\"\n",
    "if(re.search(r\"Air\\s\",\"Airline\")!=None):\n",
    "    print(\"Pattern found\")\n",
    "else:\n",
    "    print(\"Pattern not found\")\n",
    "#To check if a number is found 0 or n times after A in the given string.\n",
    "if(re.search(r\"A\\d*\",\"A2234line\")!=None):\n",
    "    print(\"Pattern found\")\n",
    "else:\n",
    "    print(\"Pattern not found\")\n",
    "#To check if a number is found 1 or n times after A in the given string\n",
    "if(re.search(r\"A\\d+\",\"Airline\")!=None):\n",
    "    print(\"Pattern found\")\n",
    "else:\n",
    "    print(\"Pattern not found\")\n",
    "#To check if a number is found 0 or 1 times after A in the given string\n",
    "if(re.search(r\"A\\d?i\",\"Airline\")!=None):\n",
    "    print(\"Pattern found\")\n",
    "else:\n",
    "    print(\"Pattern not found\")\n",
    "#To check if 3 digits are present after A in the given string\n",
    "if(re.search(r\"A\\d{3}i\",\"A223irline\")!=None):\n",
    "    print(\"Pattern found\")\n",
    "else:\n",
    "    print(\"Pattern not found\")\n",
    "#to check if the string starts with 'A'\n",
    "if(re.search(r\"^A\",\"Airline\")!=None):\n",
    "    print(\"Pattern found\")\n",
    "else:\n",
    "    print(\"Pattern not found\")\n",
    "#check wheather if string ends with 'e'\n",
    "if(re.search(r\"e$\",\"Airline\")!=None):\n",
    "    print(\"Pattern found\")\n",
    "else:\n",
    "    print(\"Pattern not found\")\n",
    "#sub\n",
    "\n",
    "flight_details=\"Flight Savana Airlines a2134\"\n",
    "print(re.sub(r\"Flight\",r\"Plane\",flight_details))\n",
    "#\n",
    "flight_details=\"Flight Savana Airlines a2134\"\n",
    "print(re.sub(r\"a(\\d{4})\",r\"A\\1\",flight_details))"
   ]
  },
  {
   "cell_type": "code",
   "execution_count": 63,
   "metadata": {},
   "outputs": [
    {
     "name": "stdout",
     "output_type": "stream",
     "text": [
      "Match Found: Airlines\n",
      "Match Found: a2138\n",
      "Match Found: Message starts with 'F'\n",
      "Match Found: Word starts with F and two consecutive characters\n",
      "Match Not Found\n",
      "Match Found: Message ends with number\n",
      "Word replaced in the message:\n",
      "Plane Savana Airlines a2138\n",
      "Word replaced in the message:\n",
      "Flight Savana Airlines A2138\n"
     ]
    }
   ],
   "source": [
    "import re\n",
    "\n",
    "flight_details=\"Flight Savana Airlines a2138\"\n",
    "\n",
    "if(re.search(r\"Airlines\",flight_details)!=None):\n",
    "    print(\"Match Found: Airlines\")\n",
    "else:\n",
    "    print(\"Match Not Found\")\n",
    "\n",
    "if(re.search(r\"a2138$\",flight_details)!=None):\n",
    "    print(\"Match Found: a2138\")\n",
    "else:\n",
    "    print(\"Match Not Found\")\n",
    "\n",
    "if(re.search(r\"^F\",flight_details)!=None):\n",
    "    print(\"Match Found: Message starts with 'F'\")\n",
    "else:\n",
    "    print(\"Match Not Found\")\n",
    "\n",
    "\n",
    "if(re.search(r\"F..\",flight_details)!=None):\n",
    "    print(\"Match Found: Word starts with F and two consecutive characters\")\n",
    "else:\n",
    "    print(\"Match Not Found\")\n",
    "\n",
    "if(re.search(r\"\\bSav\\b\",flight_details)!=None):\n",
    "    print(\"Match Found:Word with blank spaces on both sides\")\n",
    "else:\n",
    "    print(\"Match Not Found\")\n",
    "\n",
    "if(re.search(r\"\\d$\",flight_details)!=None):\n",
    "    print(\"Match Found: Message ends with number\")\n",
    "else:\n",
    "    print(\"Match Not Found\")\n",
    "\n",
    "print(\"Word replaced in the message:\")\n",
    "print(re.sub(r\"Flight\",\"Plane\",flight_details))\n",
    "print(\"Word replaced in the message:\")\n",
    "print(re.sub(r\"a(\\d{4})\",r\"A\\1\",flight_details))\n",
    "                                          "
   ]
  },
  {
   "cell_type": "code",
   "execution_count": 22,
   "metadata": {},
   "outputs": [
    {
     "name": "stdout",
     "output_type": "stream",
     "text": [
      "Indian AirlineS4\n"
     ]
    }
   ],
   "source": [
    "import re\n",
    "word=\"Indian Airlines4\"\n",
    "if(re.search(r\"^I\",word) and re.search(r\"e$\",word)):\n",
    "    print(re.sub(r\"Indian\",r\"Singapore\",word))\n",
    "else:\n",
    "    print(re.sub(r\"s(\\d{1})\",r\"S\\1\",word))"
   ]
  },
  {
   "cell_type": "code",
   "execution_count": 23,
   "metadata": {},
   "outputs": [
    {
     "name": "stdout",
     "output_type": "stream",
     "text": [
      "Enter your nameamar bal\n",
      "Hi your name is  amar bal\n",
      "Done\n"
     ]
    }
   ],
   "source": [
    "def tryit1():\n",
    "    name=input(\"Enter your name\")\n",
    "    print(\"Hi your name is \",name)\n",
    "\n",
    "\n",
    "def tryit2():\n",
    "    for i in range(1,1000000):\n",
    "        x=i*2.0\n",
    "    print(\"Done\")\n",
    "\n",
    "tryit1()\n",
    "tryit2()"
   ]
  },
  {
   "cell_type": "code",
   "execution_count": 24,
   "metadata": {},
   "outputs": [
    {
     "name": "stdout",
     "output_type": "stream",
     "text": [
      "Done\n",
      "Enter your nameamar bal\n",
      "Hi your name is  amar bal\n"
     ]
    }
   ],
   "source": [
    "from threading import Thread #threading module should be imported\n",
    "def tryit1():\n",
    "    name=input(\"Enter your name\")\n",
    "    print(\"Hi your name is \",name)\n",
    "\n",
    "def tryit2():\n",
    "    for i in range(1,1000000):\n",
    "        x=i*2.0\n",
    "    print(\"Done\")\n",
    "\n",
    "thread1=Thread(target=tryit1)   #we are creating one thread for tryit1\n",
    "thread1.start()     #we are starting that thread\n",
    "thread2=Thread(target=tryit2)   #we are creating one thread for tryit2\n",
    "thread2.start()     #we are starting that thread\n",
    "#we are waiting for the threads to complete using join.\n",
    "thread1.join()\n",
    "thread2.join()"
   ]
  },
  {
   "cell_type": "code",
   "execution_count": 1,
   "metadata": {},
   "outputs": [
    {
     "name": "stdout",
     "output_type": "stream",
     "text": [
      "Sum from func1: 49999995000000\n",
      "Enter the number2 3 5 6 7\n",
      "Sum from func2: 23\n"
     ]
    }
   ],
   "source": [
    "#PF-Tryout\n",
    "from threading import Thread\n",
    "def func1():\n",
    "    result_sum=0\n",
    "    for i in range(1,10000000):\n",
    "        result_sum += i\n",
    "    print(\"Sum from func1:\",result_sum)\n",
    "\n",
    "def func2():\n",
    "    result_sum=0\n",
    "    mylist=[]\n",
    "    mylist = map(int,input(\"Enter the number\").split(\" \"))\n",
    "    result_sum = sum(mylist)\n",
    "    print(\"Sum from func2:\",result_sum)\n",
    "\n",
    "#Modify the code given below to execute func1() and func2() in two separate threads\n",
    "thread1=Thread(target=func1)\n",
    "thread1.start()\n",
    "thread2=Thread(target=func2)\n",
    "thread2.start()\n",
    "\n",
    "thread1.join()\n",
    "thread2.join()"
   ]
  },
  {
   "cell_type": "code",
   "execution_count": 7,
   "metadata": {},
   "outputs": [
    {
     "name": "stdout",
     "output_type": "stream",
     "text": [
      "80\n",
      "720\n",
      "False\n",
      "Number is not greater than 10\n",
      "13\n"
     ]
    }
   ],
   "source": [
    "import math\n",
    "g = lambda x,y:x*(x+y)\n",
    "print(g(8,2))\n",
    "\n",
    "s=lambda x:math.factorial(x)\n",
    "print(s(6))\n",
    "\n",
    "h = lambda x: x>40 and x<50\n",
    "print(h(5))\n",
    "\n",
    "k = lambda x: x>10\n",
    "if(k(6)):\n",
    "    print(\"Number greater than 10\")\n",
    "else:\n",
    "    print(\"Number is not greater than 10\")\n",
    "m = lambda x,y,z: x+y\n",
    "print(m(1,2,3)+g(2,3))"
   ]
  },
  {
   "cell_type": "code",
   "execution_count": 8,
   "metadata": {},
   "outputs": [
    {
     "name": "stdout",
     "output_type": "stream",
     "text": [
      "320.0\n"
     ]
    }
   ],
   "source": [
    "s = lambda x,y: (x+(x**y)/y)*x\n",
    "print(s(8,2))"
   ]
  },
  {
   "cell_type": "code",
   "execution_count": 11,
   "metadata": {},
   "outputs": [
    {
     "name": "stdout",
     "output_type": "stream",
     "text": [
      "9\n"
     ]
    }
   ],
   "source": [
    "k=lambda x,y : x%y\n",
    "print(k(36,32)+ k(15,10))"
   ]
  },
  {
   "cell_type": "code",
   "execution_count": 14,
   "metadata": {},
   "outputs": [
    {
     "name": "stdout",
     "output_type": "stream",
     "text": [
      "8\n"
     ]
    }
   ],
   "source": [
    "calc = lambda x,y : (x-y)+(x%y)\n",
    "print(calc(10,4))"
   ]
  },
  {
   "cell_type": "code",
   "execution_count": 15,
   "metadata": {},
   "outputs": [
    {
     "data": {
      "text/plain": [
       "400.0"
      ]
     },
     "execution_count": 15,
     "metadata": {},
     "output_type": "execute_result"
    }
   ],
   "source": [
    "2000*2*10/100"
   ]
  },
  {
   "cell_type": "code",
   "execution_count": 16,
   "metadata": {},
   "outputs": [
    {
     "name": "stdout",
     "output_type": "stream",
     "text": [
      "Number of bags checked  4\n"
     ]
    }
   ],
   "source": [
    "def check_bag(number):\n",
    "    print(\"Number of bags checked \",number)\n",
    "\n",
    "x=check_bag\n",
    "x(4)"
   ]
  },
  {
   "cell_type": "code",
   "execution_count": 18,
   "metadata": {},
   "outputs": [
    {
     "name": "stdout",
     "output_type": "stream",
     "text": [
      "30\n"
     ]
    }
   ],
   "source": [
    "def add(x,y):\n",
    "    return x+y\n",
    "def call_function(func1,a,b):\n",
    "    ret=func1(a,b)\n",
    "    return ret\n",
    "print(call_function(add,10,20))"
   ]
  },
  {
   "cell_type": "code",
   "execution_count": 19,
   "metadata": {},
   "outputs": [
    {
     "name": "stdout",
     "output_type": "stream",
     "text": [
      "13\n"
     ]
    }
   ],
   "source": [
    "def ret_function(a,b):\n",
    "    a=a*a;\n",
    "    b=b*b;\n",
    "    return lambda :a+b\n",
    "new_func=ret_function(2,3);\n",
    "print(new_func())"
   ]
  },
  {
   "cell_type": "code",
   "execution_count": 21,
   "metadata": {},
   "outputs": [],
   "source": [
    "def func(l,list1):\n",
    "    result=0\n",
    "    for i in list1:\n",
    "        if l(i):\n",
    "            result +=i\n",
    "    return result\n",
    "\n",
    "Q=[1,2,3,4,5,6,7,8,9]\n",
    "\n",
    "p=lambda x:x\n",
    "q=lambda x: x%2 == 0\n",
    "r=lambda x: x%3 == 0"
   ]
  },
  {
   "cell_type": "code",
   "execution_count": 22,
   "metadata": {},
   "outputs": [
    {
     "name": "stdout",
     "output_type": "stream",
     "text": [
      "45\n",
      "20\n",
      "18\n"
     ]
    }
   ],
   "source": [
    "print(func(p,Q))\n",
    "print(func(q,Q))\n",
    "print(func(r,Q))"
   ]
  },
  {
   "cell_type": "code",
   "execution_count": 23,
   "metadata": {},
   "outputs": [
    {
     "name": "stdout",
     "output_type": "stream",
     "text": [
      "25\n"
     ]
    }
   ],
   "source": [
    "def add(data):\n",
    "    return data+2\n",
    "def prod(data):\n",
    "    return data*2\n",
    "def main_fun(function1,function2, number_list):\n",
    "    result_sum=0\n",
    "    for num in number_list:\n",
    "        if(num%3==0):\n",
    "            result_sum=result_sum+function1(num)\n",
    "        else:\n",
    "            result_sum=result_sum+function2(num)\n",
    "    return result_sum\n",
    "number_list=[1,3,5,6]\n",
    "print(main_fun(add, prod, number_list))"
   ]
  },
  {
   "cell_type": "code",
   "execution_count": 30,
   "metadata": {},
   "outputs": [
    {
     "name": "stdout",
     "output_type": "stream",
     "text": [
      "2140\n",
      "100\n",
      "0\n"
     ]
    }
   ],
   "source": [
    "def sum_all(function, data):\n",
    "    sum1=0\n",
    "    for i in data:\n",
    "        if function(i):\n",
    "            sum1+=i\n",
    "    return sum1\n",
    "list_of_nos = [100,200,300,500,1040]\n",
    "greater = lambda x: x>10\n",
    "\n",
    "divide = lambda x: x%10 == 0 and x<=100\n",
    "\n",
    "range_of_values = lambda x: x>= 25 and x<=50\n",
    "print(sum_all(greater,list_of_nos))\n",
    "print(sum_all(divide,list_of_nos))\n",
    "print(sum_all(range_of_values,list_of_nos))"
   ]
  },
  {
   "cell_type": "code",
   "execution_count": 31,
   "metadata": {},
   "outputs": [
    {
     "ename": "IndentationError",
     "evalue": "expected an indented block (<ipython-input-31-5ab6b80fc3be>, line 9)",
     "output_type": "error",
     "traceback": [
      "\u001b[1;36m  File \u001b[1;32m\"<ipython-input-31-5ab6b80fc3be>\"\u001b[1;36m, line \u001b[1;32m9\u001b[0m\n\u001b[1;33m    def odd(data):\u001b[0m\n\u001b[1;37m      ^\u001b[0m\n\u001b[1;31mIndentationError\u001b[0m\u001b[1;31m:\u001b[0m expected an indented block\n"
     ]
    }
   ],
   "source": [
    "#PF-Assgn-52\n",
    "\n",
    "def sum_of_numbers(list_of_num,filter_func=None):\n",
    "    pass #Remove pass and write the logic here\n",
    "\n",
    "def even(data):\n",
    "     #Remove pass and write the logic here\n",
    "\n",
    "def odd(data):\n",
    "    pass #Remove pass and write the logic here\n",
    "\n",
    "sample_data = range(1,11)\n",
    "print(sum_of_numbers(sample_data,None))"
   ]
  },
  {
   "cell_type": "code",
   "execution_count": 2,
   "metadata": {},
   "outputs": [
    {
     "name": "stdout",
     "output_type": "stream",
     "text": [
      "55\n",
      "25\n",
      "30\n"
     ]
    }
   ],
   "source": [
    "#PF-Assgn-52\n",
    "\n",
    "def sum_of_numbers(list_of_num,filter_func=None):\n",
    "    list1=[]\n",
    "    sum1=0\n",
    "    if filter_func != None:\n",
    "        list1 = filter_func(list_of_num)\n",
    "        sum1 = sum(list1)\n",
    "    else:\n",
    "        sum1 = sum(list_of_num)\n",
    "    return sum1\n",
    "def even(data):\n",
    "    list1=[]\n",
    "    for i in data:\n",
    "        if i%2 == 0:\n",
    "            list1.append(i)\n",
    "    return list1\n",
    "\n",
    "def odd(data):\n",
    "    list1=[]\n",
    "    for i in data:\n",
    "        if i%2 != 0:\n",
    "            list1.append(i)\n",
    "    return list1\n",
    "\n",
    "sample_data = range(1,11)\n",
    "\n",
    "print(sum_of_numbers(sample_data))\n",
    "print(sum_of_numbers(sample_data,odd))\n",
    "print(sum_of_numbers(sample_data,even))\n"
   ]
  },
  {
   "cell_type": "code",
   "execution_count": 3,
   "metadata": {},
   "outputs": [
    {
     "name": "stdout",
     "output_type": "stream",
     "text": [
      "3\n",
      "\n",
      "It takes strength for being certain,It takes courage to have doubt.It takes strength for challenging alone,It takes courage to lean on another.It takes strength for loving other souls,It takes courage to be loved.It takes strength for hiding our own pain,It takes courage to help if it is paining for someone.\n",
      "\n",
      "\n",
      "It takes strength for being certain,\n",
      "It takes Courage to have doubt.\n",
      "It takes strength for Challenging alone,\n",
      "It takes Courage to lean on another.\n",
      "It takes strength for loving other souls,\n",
      "It takes Courage to be loved.\n",
      "It takes strength for hiding our own pain,\n",
      "It takes Courage to help if it is paining for someone.\n",
      "\n",
      "\n",
      "\n",
      "It takes strength for being certain,\n",
      "It takes courage to have doubt.\n",
      "It takes strength for challenging alone,\n",
      "It takes courage to lean on another.\n",
      "It takes strength for loving other souls,\n",
      "It takes courage to be loved.\n",
      "It takes strength for hi*\\*g our own pain,\n",
      "It takes courage to help if it is pai*\\*g for someone.\n",
      "\n"
     ]
    }
   ],
   "source": [
    "#PF-Assgn-53\n",
    "#This verification is based on string match.\n",
    "import re\n",
    "poem='''\n",
    "It takes strength for being certain,\n",
    "It takes courage to have doubt.\n",
    "It takes strength for challenging alone,\n",
    "It takes courage to lean on another.\n",
    "It takes strength for loving other souls,\n",
    "It takes courage to be loved.\n",
    "It takes strength for hiding our own pain,\n",
    "It takes courage to help if it is paining for someone.\n",
    "'''\n",
    "\n",
    "#Note: Triple quotes can be used to enclose Strings which has lines of text.\n",
    "\n",
    "print(len(re.findall(r\"v\",poem)))\n",
    "\n",
    "print()\n",
    "print(re.sub(r\"\\n\",\"\",poem))\n",
    "\n",
    "print()\n",
    "print(re.sub('co','Co',re.sub('ch','Ch',poem)))\n",
    "\n",
    "print()\n",
    "print(re.sub('ai...','ai*\\*',re.sub('hi...','hi*\\*',poem)))"
   ]
  },
  {
   "cell_type": "code",
   "execution_count": 102,
   "metadata": {},
   "outputs": [],
   "source": [
    "s = 'abcdef'\n",
    "d={}\n",
    "for i, v in enumerate(s):\n",
    "    if v in d:\n",
    "        d[v].append(i)\n",
    "    else:\n",
    "        d[v] = [i]\n"
   ]
  },
  {
   "cell_type": "code",
   "execution_count": 103,
   "metadata": {},
   "outputs": [
    {
     "data": {
      "text/plain": [
       "{'a': [0], 'b': [1], 'c': [2], 'd': [3], 'e': [4], 'f': [5]}"
      ]
     },
     "execution_count": 103,
     "metadata": {},
     "output_type": "execute_result"
    }
   ],
   "source": [
    "d"
   ]
  },
  {
   "cell_type": "code",
   "execution_count": 110,
   "metadata": {},
   "outputs": [
    {
     "data": {
      "text/plain": [
       "['e', 'i', 'l', 'n', 's', 't']"
      ]
     },
     "execution_count": 110,
     "metadata": {},
     "output_type": "execute_result"
    }
   ],
   "source": [
    "s=\"listen\"\n",
    "p=\"silent\"\n",
    "r =sorted(s.lower())\n",
    "t =sorted(p.lower())\n",
    "r"
   ]
  },
  {
   "cell_type": "code",
   "execution_count": 113,
   "metadata": {},
   "outputs": [
    {
     "name": "stdout",
     "output_type": "stream",
     "text": [
      "Nah\n"
     ]
    }
   ],
   "source": [
    "for i in range(0,len(s)):\n",
    "    for j in range(0,len(p)):\n",
    "        if s[i] == p[j] and i == j:\n",
    "            print(\"Nah\")"
   ]
  },
  {
   "cell_type": "code",
   "execution_count": 30,
   "metadata": {},
   "outputs": [
    {
     "name": "stdout",
     "output_type": "stream",
     "text": [
      "6\n",
      "4\n",
      "['AI077:4', 'SI267:3', 'AI567:2', 'BA896:1']\n"
     ]
    }
   ],
   "source": [
    "#PF-Assgn-55\n",
    "import collections\n",
    "ticket_list=[\"AI567:MUM:LON:014\",\"AI077:MUM:LON:056\", \"BA896:MUM:LON:067\", \"SI267:MUM:SIN:145\",\"AI077:MUM:CAN:060\",\"SI267:BLR:MUM:148\",\n",
    "             \"AI567:CHE:SIN:015\",\"AI077:MUM:SIN:050\",\"AI077:MUM:LON:051\",\"SI267:MUM:SIN:146\"]\n",
    "\n",
    "def find_passengers_flight(airline_name=\"AI\"):\n",
    "    #This function finds and returns the number of passengers travelling in the specified airline.\n",
    "    count=0\n",
    "    for i in ticket_list:\n",
    "        string_list=i.split(\":\")\n",
    "        if(string_list[0].startswith(airline_name)):\n",
    "            count+=1\n",
    "    return count\n",
    "\n",
    "def find_passengers_destination(destination):\n",
    "    #Write the logic to find and return the number of passengers traveling to the specified destination\n",
    "    count=0\n",
    "    for i in ticket_list:\n",
    "        string_list=i.split(\":\")\n",
    "        if(string_list[2] == destination):\n",
    "            count+=1\n",
    "    return count\n",
    "\n",
    "def find_passengers_per_flight():\n",
    "    ''''Write the logic to find and return a list having number of passengers traveling per flight based on the details in the ticket_list\n",
    "    In the list, details should be provided in the format:\n",
    "    [flight_no:no_of_passengers, flight_no:no_of_passengers, etc.].'''\n",
    "    list2=[]\n",
    "    list3=[]\n",
    "    for i in ticket_list:\n",
    "        string_list = i.split(\":\")\n",
    "        list2.append(string_list[0])\n",
    "        ctr = collections.Counter(list2)\n",
    "    for key, value in ctr.items():\n",
    "        string=str(key)+\":\"+str(value)\n",
    "        list3.append(string)\n",
    "    return list3\n",
    "def sort_passenger_list():\n",
    "    list2=[]\n",
    "    list3=[]\n",
    "    list1=find_passengers_per_flight()\n",
    "    for i in list1:\n",
    "        string = i.split(\":\")\n",
    "        list2.append(string[1])\n",
    "    list2.sort(reverse=True)\n",
    "    for i in list2:\n",
    "        for j in list1:\n",
    "            string1 = j.split(\":\")\n",
    "            if string1[1] == i:\n",
    "                list3.append(j)\n",
    "    return list3\n",
    "print(find_passengers_flight(\"AI\"))\n",
    "print(find_passengers_destination(\"LON\"))\n",
    "print(sort_passenger_list())"
   ]
  },
  {
   "cell_type": "code",
   "execution_count": 24,
   "metadata": {},
   "outputs": [
    {
     "name": "stdout",
     "output_type": "stream",
     "text": [
      "['AI567:2', 'AI077:4', 'BA896:1', 'SI267:3']\n"
     ]
    }
   ],
   "source": [
    "print(find_passengers_per_flight())"
   ]
  },
  {
   "cell_type": "code",
   "execution_count": 40,
   "metadata": {},
   "outputs": [
    {
     "name": "stdout",
     "output_type": "stream",
     "text": [
      "0\n"
     ]
    }
   ],
   "source": [
    "import collections\n",
    "def max_frequency_word_counter(data):\n",
    "    word=\"\"\n",
    "    frequency=0\n",
    "    list1=data.split(\" \")\n",
    "    ctr = collections.Counter(list1)\n",
    "    max1 = ctr[\"a\"]\n",
    "    for key, value in list1:\n",
    "        if value > max1:\n",
    "            max1 = value\n",
    "    \n",
    "    \n",
    "data=\"Work like you do not need money, love like you have never been hurt, and dance like no one is watching\"\n",
    "max_frequency_word_counter(data)"
   ]
  },
  {
   "cell_type": "code",
   "execution_count": 126,
   "metadata": {},
   "outputs": [
    {
     "name": "stdout",
     "output_type": "stream",
     "text": [
      "Counter({'tick': 2, 'listen': 1, 'to': 1, 'the': 1, 'big': 1, 'clock': 1, 'tock': 1})\n",
      "tick\n"
     ]
    }
   ],
   "source": [
    "from collections import Counter\n",
    "data=\"Listen to the big clock Tick tock tick\"\n",
    "data=data.lower()\n",
    "d=[]\n",
    "list1=data.split(\" \")\n",
    "counts = Counter(list1)\n",
    "sorted(counts.items(), key=lambda x:x[1])\n",
    "print(counts)\n",
    "a=next((key, value) for key, value in counts.items() if value > 1)\n",
    "val=a[1]\n",
    "for k,v in counts.items():\n",
    "    if v == val:\n",
    "        d.append(k)\n",
    "d.sort(key=len,reverse=True)\n",
    "print(d[0])"
   ]
  },
  {
   "cell_type": "code",
   "execution_count": 9,
   "metadata": {},
   "outputs": [
    {
     "data": {
      "text/plain": [
       "[5, 6, 7, 8, 1, 2, 3, 4]"
      ]
     },
     "execution_count": 9,
     "metadata": {},
     "output_type": "execute_result"
    }
   ],
   "source": [
    "list1=[]\n",
    "number_list=[1,2,3,4,5,6,7,8]\n",
    "list1=number_list[len(number_list)//2:]\n",
    "for i in range(0,len(number_list)//2):\n",
    "    list1.append(number_list[i])\n",
    "list1"
   ]
  },
  {
   "cell_type": "code",
   "execution_count": null,
   "metadata": {},
   "outputs": [],
   "source": []
  }
 ],
 "metadata": {
  "kernelspec": {
   "display_name": "Python 3",
   "language": "python",
   "name": "python3"
  },
  "language_info": {
   "codemirror_mode": {
    "name": "ipython",
    "version": 3
   },
   "file_extension": ".py",
   "mimetype": "text/x-python",
   "name": "python",
   "nbconvert_exporter": "python",
   "pygments_lexer": "ipython3",
   "version": "3.7.0"
  }
 },
 "nbformat": 4,
 "nbformat_minor": 2
}
