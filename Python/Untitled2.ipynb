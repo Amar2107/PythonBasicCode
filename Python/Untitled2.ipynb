{
 "cells": [
  {
   "cell_type": "code",
   "execution_count": 8,
   "metadata": {},
   "outputs": [
    {
     "name": "stdout",
     "output_type": "stream",
     "text": [
      "44\n"
     ]
    }
   ],
   "source": [
    "a = -10\n",
    "b = -200\n",
    "c = 2000\n",
    "d = 4000\n",
    "if( a*b >=d):\n",
    "    if(d>c):\n",
    "        if(d%c!=0):\n",
    "            print(11)\n",
    "        else:\n",
    "            print(22)\n",
    "else:\n",
    "    if(b/a >0):\n",
    "        if(a<b or d%c!=0):\n",
    "          print(33)\n",
    "        else:\n",
    "          print(44)\n",
    "\n",
    "\n",
    " \n",
    "\n"
   ]
  },
  {
   "cell_type": "code",
   "execution_count": null,
   "metadata": {},
   "outputs": [],
   "source": []
  }
 ],
 "metadata": {
  "kernelspec": {
   "display_name": "Python 3",
   "language": "python",
   "name": "python3"
  },
  "language_info": {
   "codemirror_mode": {
    "name": "ipython",
    "version": 3
   },
   "file_extension": ".py",
   "mimetype": "text/x-python",
   "name": "python",
   "nbconvert_exporter": "python",
   "pygments_lexer": "ipython3",
   "version": "3.6.4"
  }
 },
 "nbformat": 4,
 "nbformat_minor": 2
}
