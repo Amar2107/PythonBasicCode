{
 "cells": [
  {
   "cell_type": "code",
   "execution_count": 1,
   "metadata": {},
   "outputs": [
    {
     "name": "stdout",
     "output_type": "stream",
     "text": [
      "Check-in cleared\n"
     ]
    }
   ],
   "source": [
    "luggage_weight=30\n",
    "weight_limit=30  #Weight limit for the airline\n",
    "extra_luggage_charge=0\n",
    "if(luggage_weight>0 and luggage_weight<=weight_limit):\n",
    "    print(\"Check-in cleared\")\n",
    "elif(luggage_weight<=(weight_limit+10)):\n",
    "    extra_luggage_charge=300*(luggage_weight-weight_limit)\n",
    "else:\n",
    "    extra_luggage_charge=500*(luggage_weight-weight_limit)\n",
    "\n",
    "if(extra_luggage_charge>0):\n",
    "    print(\"Extra luggage charge is Rs.\", extra_luggage_charge)\n",
    "    print(\"Please make the payment to clear check-in\")"
   ]
  },
  {
   "cell_type": "code",
   "execution_count": 11,
   "metadata": {},
   "outputs": [
    {
     "name": "stdout",
     "output_type": "stream",
     "text": [
      "10\n"
     ]
    }
   ],
   "source": [
    "value1=\"ABC\"\n",
    "value3=1002\n",
    "value2=\"A\"\n",
    "if(value3>1000 and value3<1006):\n",
    "  if(value1==\"ABC\"):\n",
    "    if(value2==\"A\"):\n",
    "      value4=10\n",
    "    else:\n",
    "      value4=8\n",
    "  elif(value1==\"XYZ\"):\n",
    "    if(value2==\"A\"):\n",
    "      value4=8\n",
    "    else:\n",
    "      value4=6\n",
    "print(value4)"
   ]
  },
  {
   "cell_type": "code",
   "execution_count": 14,
   "metadata": {},
   "outputs": [
    {
     "name": "stdout",
     "output_type": "stream",
     "text": [
      "44\n"
     ]
    }
   ],
   "source": [
    "a = -10\n",
    "b = -200\n",
    "c = 2000\n",
    "d = 4000\n",
    "if( a*b >=d):\n",
    "    if(d>c):\n",
    "        if(d%c!=0):\n",
    "            print(11)\n",
    "        else:\n",
    "            print(22)\n",
    "else:\n",
    "    if(b/a >0):\n",
    "        if(a<b or d%c!=0):\n",
    "          print(33)\n",
    "        else:\n",
    "          print(44)"
   ]
  },
  {
   "cell_type": "code",
   "execution_count": 45,
   "metadata": {},
   "outputs": [
    {
     "name": "stdout",
     "output_type": "stream",
     "text": [
      "10\n"
     ]
    }
   ],
   "source": [
    "value1=\"ABC\"\n",
    "value3=1002\n",
    "value2=\"A\"\n",
    "\n",
    "if(value3>1000 and value3<1006 or value1==\"ABC\"):\n",
    "   if(value2==\"A\"):\n",
    "      value4=10\n",
    "   else:\n",
    "      value4=8\n",
    "elif(value3>1000 and value3<1006 or  value1==\"XYZ\"):\n",
    "   if(value2==\"A\"):\n",
    "      value4=8\n",
    "   else:\n",
    "      value4=6\n",
    "print(value4)"
   ]
  },
  {
   "cell_type": "code",
   "execution_count": 60,
   "metadata": {},
   "outputs": [],
   "source": [
    "def make_amount(rupees_to_make,no_of_five,no_of_one):\n",
    "    five_needed=0\n",
    "    one_needed=0\n",
    "    r = rupees_to_make\n",
    "    a = r/5\n",
    "    five_needed = int(a)\n",
    "    r = r - 5*five_needed\n",
    "    one_needed = r\n",
    "    \n",
    "    \n",
    "    if five_needed > no_of_five or one_needed > no_of_one :\n",
    "        rupees_to_make = rupees_to_make - 5*no_of_five\n",
    "        if no_of_one >= rupees_to_make and one_needed <= no_of_one:\n",
    "            print(\"No. of Five needed :\", no_of_five)\n",
    "            print(\"No. of One needed  :\", rupees_to_make)\n",
    "        else:\n",
    "            print(-1)\n",
    "    else:\n",
    "        print(\"No. of Five needed 1 :\", five_needed)\n",
    "        print(\"No. of One needed1 :\",one_needed)"
   ]
  },
  {
   "cell_type": "code",
   "execution_count": 61,
   "metadata": {},
   "outputs": [
    {
     "name": "stdout",
     "output_type": "stream",
     "text": [
      "18\n",
      "3\n",
      "-1\n"
     ]
    }
   ],
   "source": [
    "make_amount(93,19,2)"
   ]
  },
  {
   "cell_type": "code",
   "execution_count": 62,
   "metadata": {},
   "outputs": [],
   "source": [
    "def find_product(num1,num2,num3):\n",
    "    product=0\n",
    "    #write your logic here\n",
    "    if num3 == 7:\n",
    "        product = -1\n",
    "    elif num2 == 7:\n",
    "        product = num3\n",
    "    elif num1 == 7:\n",
    "        product = num2*num3\n",
    "    else:\n",
    "        product = num1*num2*num3\n",
    "    return product"
   ]
  },
  {
   "cell_type": "code",
   "execution_count": 63,
   "metadata": {},
   "outputs": [
    {
     "data": {
      "text/plain": [
       "-1"
      ]
     },
     "execution_count": 63,
     "metadata": {},
     "output_type": "execute_result"
    }
   ],
   "source": [
    "find_product(1,2,7)"
   ]
  },
  {
   "cell_type": "code",
   "execution_count": 64,
   "metadata": {},
   "outputs": [
    {
     "name": "stdout",
     "output_type": "stream",
     "text": [
      "42.8\n"
     ]
    }
   ],
   "source": [
    "def convert_currency(amount_needed_inr,current_currency_name):\n",
    "    current_currency_amount=0\n",
    "    #write your logic here\n",
    "    if(amount_needed_inr < 1):\n",
    "        current_currency_amount=-1\n",
    "    else:\n",
    "        if current_currency_name == \"Euro\":\n",
    "            current_currency_amount = amount_needed_inr * 0.01417\n",
    "        elif current_currency_name == \"British_Pound\":\n",
    "            current_currency_amount = amount_needed_inr * 0.0100\n",
    "        elif current_currency_name == \"Australian Dollar\":\n",
    "            current_currency_amount = amount_needed_inr * 0.02140\n",
    "        elif current_currency_name == \"Canadian Dollar\":\n",
    "            current_currency_amount = amount_needed_inr * 0.02027\n",
    "        else:\n",
    "            current_currency_amount = \"Invalid currency name\"\n",
    "    return current_currency_amount\n",
    "\n",
    "\n",
    "#Provide different values for amount_needed_inr,current_currency_name and test your program\n",
    "currency_needed=convert_currency(2000,\"Australian Dollar\")\n",
    "if(currency_needed!= -1):\n",
    "    print(currency_needed )\n",
    "else:\n",
    "    print(\"Invalid currency name\")"
   ]
  },
  {
   "cell_type": "code",
   "execution_count": 70,
   "metadata": {},
   "outputs": [],
   "source": [
    "def calculate_bill_amount(food_type,quantity_ordered,distance_in_kms):\n",
    "    bill_amount=0\n",
    "    if quantity_ordered < 1:\n",
    "        return -1\n",
    "    if distance_in_kms>0 and distance_in_kms<=3:\n",
    "        dcharge = 0\n",
    "    elif distance_in_kms>3 and distance_in_kms<=6:\n",
    "        dcharge = 3*(distance_in_kms-3)\n",
    "    elif distance_in_kms>6:\n",
    "        dcharge = 6*(distance_in_kms-6)+9\n",
    "    else:\n",
    "        return -1\n",
    "    if food_type == \"N\":\n",
    "        bill_amount = 150*quantity_ordered + dcharge\n",
    "    elif food_type == \"V\":\n",
    "        bill_amount = 120*quantity_ordered + dcharge\n",
    "    else:\n",
    "        return -1\n",
    "    return bill_amount"
   ]
  },
  {
   "cell_type": "code",
   "execution_count": 71,
   "metadata": {},
   "outputs": [
    {
     "data": {
      "text/plain": [
       "165"
      ]
     },
     "execution_count": 71,
     "metadata": {},
     "output_type": "execute_result"
    }
   ],
   "source": [
    "calculate_bill_amount(\"N\",1,7)"
   ]
  },
  {
   "cell_type": "code",
   "execution_count": 69,
   "metadata": {},
   "outputs": [
    {
     "name": "stdout",
     "output_type": "stream",
     "text": [
      "7\n"
     ]
    }
   ],
   "source": [
    "ip = 56\n",
    "if ip%7 == 0:\n",
    "    marks = 7\n",
    "elif ip > 40:\n",
    "    marks = 8\n",
    "print(marks)"
   ]
  },
  {
   "cell_type": "code",
   "execution_count": 11,
   "metadata": {},
   "outputs": [
    {
     "name": "stdout",
     "output_type": "stream",
     "text": [
      "Account number: 1005\n",
      "The customer can avail the amount of Rs. 500000\n",
      "Eligible EMIs : 36\n",
      "Requested loan amount: 300000\n",
      "Requested EMI's: 30\n"
     ]
    }
   ],
   "source": [
    "def calculate_loan(account_number,salary,account_balance,loan_type,loan_amount_expected,customer_emi_expected):\n",
    "    eligible_loan_amount=0\n",
    "    bank_emi_expected=0\n",
    "    eligible_loan_amount=0\n",
    "    \n",
    "    #Start writing your code here\n",
    "    flag=0\n",
    "    if int(account_number/10000) !=0 or int(account_number/1000) != 1:\n",
    "        print(\"Invalid account number\")\n",
    "    else:\n",
    "        if account_balance<100000:\n",
    "            print(\"Insufficient account balance\")\n",
    "        else:\n",
    "            if salary>25000 and loan_type==\"Car\" :\n",
    "                eligible_loan_amount = 500000\n",
    "                bank_emi_expected = 36\n",
    "            elif salary>50000 and loan_type==\"House\" :\n",
    "                eligible_loan_amount = 6000000\n",
    "                bank_emi_expected = 60\n",
    "            elif salary>75000 and loan_type==\"Business\" :\n",
    "                eligible_loan_amount = 7500000\n",
    "                bank_emi_expected = 84\n",
    "            else:\n",
    "                print(\"Invalid loan type or salary\")\n",
    "                flag =1\n",
    "            if flag != 1:\n",
    "                \n",
    "                if loan_amount_expected<=eligible_loan_amount and customer_emi_expected<=bank_emi_expected:\n",
    "                    print(\"Account number:\", account_number)\n",
    "                    print(\"The customer can avail the amount of Rs.\", eligible_loan_amount)\n",
    "                    print(\"Eligible EMIs :\", bank_emi_expected)\n",
    "                    print(\"Requested loan amount:\", loan_amount_expected)\n",
    "                    print(\"Requested EMI's:\",customer_emi_expected)\n",
    "                else:\n",
    "                    print(\"The customer is not eligible for the loan\")\n",
    "            \n",
    "\n",
    "    #Use the below given print statements to display the output, in case of success\n",
    "    #print(\"Account number:\", account_number)\n",
    "    #print(\"The customer can avail the amount of Rs.\", eligible_loan_amount)\n",
    "    #print(\"Eligible EMIs :\", bank_emi_expected)\n",
    "    #print(\"Requested loan amount:\", loan_amount_expected)\n",
    "    #print(\"Requested EMI's:\",customer_emi_expected)\n",
    "\n",
    "    #Use the below given print statements to display the output, in case of invalid data.\n",
    "    #print(\"Insufficient account balance\")\n",
    "    #print(\"The customer is not eligible for the loan\")\n",
    "    #print(\"Invalid account number\")\n",
    "    #print(\"Invalid loan type or salary\")\n",
    "    # Also, do not modify the above print statements for verification to work\n",
    "\n",
    "\n",
    "#Test your code for different values and observe the results\n",
    "calculate_loan(1005,30000,255000,\"Car\",300000,30)"
   ]
  },
  {
   "cell_type": "code",
   "execution_count": 4,
   "metadata": {},
   "outputs": [
    {
     "name": "stdout",
     "output_type": "stream",
     "text": [
      "Invalid\n"
     ]
    }
   ],
   "source": [
    "account_number = 2005\n",
    "if int(account_number/10000) !=0 or account_number%10 != 1:\n",
    "    print(\"Invalid\")\n",
    "else:\n",
    "    print(\"valid\")"
   ]
  },
  {
   "cell_type": "code",
   "execution_count": 3,
   "metadata": {},
   "outputs": [
    {
     "data": {
      "text/plain": [
       "0"
      ]
     },
     "execution_count": 3,
     "metadata": {},
     "output_type": "execute_result"
    }
   ],
   "source": [
    "if int(2005/10000)"
   ]
  },
  {
   "cell_type": "code",
   "execution_count": 13,
   "metadata": {},
   "outputs": [
    {
     "name": "stdout",
     "output_type": "stream",
     "text": [
      "Input a year: 2012\n",
      "Input a month [1-12]: 2\n",
      "Input a day [1-31]: 28\n",
      "The next date is [yyyy-mm-dd] 2012-2-29.\n"
     ]
    }
   ],
   "source": [
    "year = int(input(\"Input a year: \"))\n",
    "\n",
    "if (year % 400 == 0):\n",
    "    leap_year = True\n",
    "elif (year % 100 == 0):\n",
    "    leap_year = False\n",
    "elif (year % 4 == 0):\n",
    "    leap_year = True\n",
    "else:\n",
    "    leap_year = False\n",
    "\n",
    "month = int(input(\"Input a month [1-12]: \"))\n",
    "\n",
    "if month in (1, 3, 5, 7, 8, 10, 12):\n",
    "    month_length = 31\n",
    "elif month == 2:\n",
    "    if leap_year:\n",
    "        month_length = 29\n",
    "    else:\n",
    "        month_length = 28\n",
    "else:\n",
    "    month_length = 30\n",
    "\n",
    "\n",
    "day = int(input(\"Input a day [1-31]: \"))\n",
    "\n",
    "if day < month_length:\n",
    "    day += 1\n",
    "else:\n",
    "    day = 1\n",
    "    if month == 12:\n",
    "        month = 1\n",
    "        year += 1\n",
    "    else:\n",
    "        month += 1\n",
    "print(\"The next date is [yyyy-mm-dd] %d-%d-%d.\" % (year, month, day))"
   ]
  },
  {
   "cell_type": "code",
   "execution_count": 16,
   "metadata": {},
   "outputs": [
    {
     "name": "stdout",
     "output_type": "stream",
     "text": [
      "Enter the year2012\n"
     ]
    },
    {
     "ename": "TypeError",
     "evalue": "not all arguments converted during string formatting",
     "output_type": "error",
     "traceback": [
      "\u001b[1;31m---------------------------------------------------------------------------\u001b[0m",
      "\u001b[1;31mTypeError\u001b[0m                                 Traceback (most recent call last)",
      "\u001b[1;32m<ipython-input-16-a4c9388b8d13>\u001b[0m in \u001b[0;36m<module>\u001b[1;34m()\u001b[0m\n\u001b[0;32m      1\u001b[0m \u001b[0myear\u001b[0m \u001b[1;33m=\u001b[0m \u001b[0minput\u001b[0m\u001b[1;33m(\u001b[0m\u001b[1;34m\"Enter the year\"\u001b[0m\u001b[1;33m)\u001b[0m\u001b[1;33m\u001b[0m\u001b[0m\n\u001b[1;32m----> 2\u001b[1;33m \u001b[1;32mif\u001b[0m\u001b[1;33m(\u001b[0m\u001b[1;33m(\u001b[0m\u001b[0myear\u001b[0m \u001b[1;33m%\u001b[0m \u001b[1;36m400\u001b[0m \u001b[1;33m==\u001b[0m \u001b[1;36m0\u001b[0m\u001b[1;33m)\u001b[0m \u001b[1;32mor\u001b[0m \u001b[1;33m(\u001b[0m\u001b[1;33m(\u001b[0m\u001b[0myear\u001b[0m \u001b[1;33m%\u001b[0m \u001b[1;36m100\u001b[0m \u001b[1;33m==\u001b[0m \u001b[1;36m0\u001b[0m\u001b[1;33m)\u001b[0m \u001b[1;32mand\u001b[0m \u001b[1;33m(\u001b[0m\u001b[0myear\u001b[0m \u001b[1;33m%\u001b[0m \u001b[1;36m4\u001b[0m \u001b[1;33m==\u001b[0m \u001b[1;36m0\u001b[0m\u001b[1;33m)\u001b[0m\u001b[1;33m)\u001b[0m\u001b[1;33m)\u001b[0m\u001b[1;33m:\u001b[0m\u001b[1;33m\u001b[0m\u001b[0m\n\u001b[0m\u001b[0;32m      3\u001b[0m     \u001b[0mleap_year\u001b[0m \u001b[1;33m=\u001b[0m \u001b[1;32mTrue\u001b[0m\u001b[1;33m\u001b[0m\u001b[0m\n\u001b[0;32m      4\u001b[0m \u001b[1;32melse\u001b[0m\u001b[1;33m:\u001b[0m\u001b[1;33m\u001b[0m\u001b[0m\n\u001b[0;32m      5\u001b[0m      \u001b[0mleap_year\u001b[0m \u001b[1;33m=\u001b[0m \u001b[1;32mFalse\u001b[0m\u001b[1;33m\u001b[0m\u001b[0m\n",
      "\u001b[1;31mTypeError\u001b[0m: not all arguments converted during string formatting"
     ]
    }
   ],
   "source": [
    "year = input(\"Enter the year\")\n",
    "if((year % 400 == 0) or ((year % 100 == 0) and (year % 4 == 0))):    \n",
    "    leap_year = True\n",
    "else:\n",
    "     leap_year = False"
   ]
  },
  {
   "cell_type": "code",
   "execution_count": null,
   "metadata": {},
   "outputs": [],
   "source": []
  }
 ],
 "metadata": {
  "kernelspec": {
   "display_name": "Python 3",
   "language": "python",
   "name": "python3"
  },
  "language_info": {
   "codemirror_mode": {
    "name": "ipython",
    "version": 3
   },
   "file_extension": ".py",
   "mimetype": "text/x-python",
   "name": "python",
   "nbconvert_exporter": "python",
   "pygments_lexer": "ipython3",
   "version": "3.6.4"
  }
 },
 "nbformat": 4,
 "nbformat_minor": 2
}
