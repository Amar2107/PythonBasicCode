{
 "cells": [
  {
   "cell_type": "code",
   "execution_count": 1,
   "metadata": {},
   "outputs": [
    {
     "name": "stdout",
     "output_type": "stream",
     "text": [
      "Security check of passenger: 1 -- baggage: 1 baggage cleared\n",
      "Security check of passenger: 1 -- baggage: 2 baggage cleared\n",
      "Security check of passenger: 2 -- baggage: 1 baggage cleared\n",
      "Security check of passenger: 2 -- baggage: 2 baggage cleared\n",
      "Security check of passenger: 3 -- baggage: 1 baggage cleared\n",
      "Security check of passenger: 3 -- baggage: 2 baggage cleared\n",
      "Security check of passenger: 4 -- baggage: 1 baggage cleared\n",
      "Security check of passenger: 4 -- baggage: 2 baggage cleared\n",
      "Security check of passenger: 5 -- baggage: 1 baggage cleared\n",
      "Security check of passenger: 5 -- baggage: 2 baggage cleared\n"
     ]
    }
   ],
   "source": [
    "number_of_passengers=5\n",
    "number_of_baggage=2\n",
    "security_check=True\n",
    "for passenger_count in range(1, number_of_passengers+1):\n",
    "    for baggage_count in range(1,number_of_baggage+1):\n",
    "        if(security_check==True):\n",
    "            print(\"Security check of passenger:\", passenger_count, \"-- baggage:\", baggage_count,\"baggage cleared\")\n",
    "        else:\n",
    "            print(\"Security check of passenger:\", passenger_count, \"-- baggage:\", baggage_count,\"baggage not cleared\")"
   ]
  },
  {
   "cell_type": "code",
   "execution_count": 2,
   "metadata": {},
   "outputs": [
    {
     "name": "stdout",
     "output_type": "stream",
     "text": [
      "Security check of passenger: 1 -- baggage: 1 baggage cleared\n",
      "Security check of passenger: 1 -- baggage: 2 baggage cleared\n",
      "Security check of passenger: 2 -- baggage: 1 baggage cleared\n",
      "Security check of passenger: 2 -- baggage: 2 baggage cleared\n",
      "Security check of passenger: 3 -- baggage: 1 baggage cleared\n",
      "Security check of passenger: 3 -- baggage: 2 baggage cleared\n",
      "Security check of passenger: 4 -- baggage: 1 baggage cleared\n",
      "Security check of passenger: 4 -- baggage: 2 baggage cleared\n",
      "Security check of passenger: 5 -- baggage: 1 baggage cleared\n",
      "Security check of passenger: 5 -- baggage: 2 baggage cleared\n"
     ]
    }
   ],
   "source": [
    "number_of_passengers=5\n",
    "number_of_baggage=2\n",
    "security_check=True\n",
    "for passenger_count in range(1, number_of_passengers+1):\n",
    "    baggage_count =1\n",
    "    while (baggage_count<=number_of_baggage):\n",
    "        if(security_check==True):\n",
    "            print(\"Security check of passenger:\", passenger_count, \"-- baggage:\", baggage_count,\"baggage cleared\")\n",
    "        else:\n",
    "            print(\"Security check of passenger:\", passenger_count, \"-- baggage:\", baggage_count,\"baggage not cleared\")\n",
    "        baggage_count+=1"
   ]
  },
  {
   "cell_type": "code",
   "execution_count": 3,
   "metadata": {},
   "outputs": [
    {
     "name": "stdout",
     "output_type": "stream",
     "text": [
      "Proceed with normal security check\n",
      "Check the person\n",
      "Check for cabin baggage\n",
      "Proceed with normal security check\n",
      "Check the person\n",
      "Check for cabin baggage\n",
      "No check required\n",
      "Proceed with normal security check\n",
      "Check the person\n",
      "Check for cabin baggage\n",
      "No check required\n",
      "Declare emergency in the airport\n"
     ]
    }
   ],
   "source": [
    "for passenger in \"A\",\"A\", \"FC\", \"C\", \"FA\",  \"SP\", \"A\", \"A\":\n",
    "    if(passenger==\"FC\" or passenger==\"FA\"):\n",
    "        print(\"No check required\")\n",
    "        continue\n",
    "\n",
    "    if(passenger==\"SP\"):\n",
    "        print(\"Declare emergency in the airport\")\n",
    "        break\n",
    "\n",
    "    if(passenger==\"A\" or passenger==\"C\"):\n",
    "        print(\"Proceed with normal security check\")\n",
    "\n",
    "\n",
    "    print(\"Check the person\")\n",
    "    print(\"Check for cabin baggage\")"
   ]
  },
  {
   "cell_type": "code",
   "execution_count": 4,
   "metadata": {},
   "outputs": [
    {
     "name": "stdout",
     "output_type": "stream",
     "text": [
      "25\n",
      "26\n",
      "27\n",
      "28\n"
     ]
    }
   ],
   "source": [
    "number=28\n",
    "for num in range(25,30):\n",
    "    if(number>num):\n",
    "        print(num)\n",
    "    else:\n",
    "        print(num)\n",
    "        break"
   ]
  },
  {
   "cell_type": "code",
   "execution_count": 5,
   "metadata": {},
   "outputs": [
    {
     "name": "stdout",
     "output_type": "stream",
     "text": [
      "45 50 90 "
     ]
    }
   ],
   "source": [
    "for num in 23, 45, 50, 65, 76, 90:\n",
    "    if(num%5!=0):\n",
    "        continue\n",
    "    if(num%10==0):\n",
    "        print(num, end=\" \")\n",
    "        continue\n",
    "    if(num%3==0):\n",
    "        print(num, end=\" \")"
   ]
  },
  {
   "cell_type": "code",
   "execution_count": 6,
   "metadata": {},
   "outputs": [
    {
     "name": "stdout",
     "output_type": "stream",
     "text": [
      "10 20 15 30 "
     ]
    }
   ],
   "source": [
    "for number in 10,15:\n",
    "    for counter in range(1,3):\n",
    "        print(number*counter, end=\" \")"
   ]
  },
  {
   "cell_type": "code",
   "execution_count": 9,
   "metadata": {},
   "outputs": [
    {
     "name": "stdout",
     "output_type": "stream",
     "text": [
      "4.0\n"
     ]
    }
   ],
   "source": [
    "num1=16\n",
    "num2=6\n",
    "while(num1>=2):\n",
    "    if(num1>num2):\n",
    "        num1=num1/2\n",
    "    else:\n",
    "        print(num1)\n",
    "        break"
   ]
  },
  {
   "cell_type": "code",
   "execution_count": 10,
   "metadata": {},
   "outputs": [
    {
     "name": "stdout",
     "output_type": "stream",
     "text": [
      "13579"
     ]
    }
   ],
   "source": [
    "counter=0\n",
    "while counter <=9:\n",
    "    if counter%2 ==0:\n",
    "        pass\n",
    "    else:\n",
    "        print(counter,end=\"\")\n",
    "    counter+=1"
   ]
  },
  {
   "cell_type": "code",
   "execution_count": 14,
   "metadata": {},
   "outputs": [
    {
     "name": "stdout",
     "output_type": "stream",
     "text": [
      "6\n"
     ]
    }
   ],
   "source": [
    "number=123\n",
    "sum =0\n",
    "while number!=0:\n",
    "    sum = sum+int(number%10)\n",
    "    number = number/10\n",
    "    \n",
    "print(sum)"
   ]
  },
  {
   "cell_type": "code",
   "execution_count": 15,
   "metadata": {},
   "outputs": [
    {
     "name": "stdout",
     "output_type": "stream",
     "text": [
      "['EM', 10]\n",
      "7\n",
      "Airline details as a list:\n",
      "['AI', 8]\n",
      "['EM', 10]\n",
      "['BA', 7]\n",
      "No. of flights operated by each airline:\n",
      "8\n",
      "10\n",
      "7\n"
     ]
    }
   ],
   "source": [
    "airline_details=[[\"AI\",8], [\"EM\",10],[\"BA\",7]]\n",
    "\n",
    "#To get the details of Emirates (EM) airline\n",
    "#Prints a list\n",
    "print(airline_details[1])\n",
    "\n",
    "#To get the number of flights operated by British Airways (BA)\n",
    "#[2][1] refers to 2nd list and 1st value, inside airline_details\n",
    "#Remember counting is 0 based\n",
    "print(airline_details[2][1])\n",
    "\n",
    "#To display the details of all airlines\n",
    "print(\"Airline details as a list:\")\n",
    "for airline in airline_details:\n",
    "    print(airline)\n",
    "\n",
    "#To display the number of flights operated by each airline\n",
    "print(\"No. of flights operated by each airline:\")\n",
    "for airline in airline_details:\n",
    "        print(airline[1])    "
   ]
  },
  {
   "cell_type": "code",
   "execution_count": 18,
   "metadata": {},
   "outputs": [
    {
     "name": "stdout",
     "output_type": "stream",
     "text": [
      "1\n",
      "1\n",
      "5\n",
      "100\n",
      "-20\n",
      "-20\n",
      "6\n",
      "0\n",
      "0\n"
     ]
    }
   ],
   "source": [
    "num_list=[1,1,5,100,-20,-20,6,0,0]\n",
    "for i in range(0,len(num_list)):\n",
    "    print(num_list[i])"
   ]
  },
  {
   "cell_type": "code",
   "execution_count": 19,
   "metadata": {},
   "outputs": [
    {
     "name": "stdout",
     "output_type": "stream",
     "text": [
      "Iterating the list using range()\n",
      "AI\n",
      "EM\n",
      "BA\n",
      "Iterating the list using keyword in\n",
      "AI\n",
      "EM\n",
      "BA\n"
     ]
    }
   ],
   "source": [
    "list_of_airlines=[\"AI\",\"EM\",\"BA\"]\n",
    "\n",
    "print(\"Iterating the list using range()\")\n",
    "for index in range(0,len(list_of_airlines)):\n",
    "    print(list_of_airlines[index])\n",
    "\n",
    "print(\"Iterating the list using keyword in\")\n",
    "for airline in list_of_airlines:\n",
    "    print(airline)\n"
   ]
  },
  {
   "cell_type": "code",
   "execution_count": 20,
   "metadata": {},
   "outputs": [
    {
     "name": "stdout",
     "output_type": "stream",
     "text": [
      "['EM', 10]\n",
      "7\n",
      "Airline details as a list:\n",
      "['AI', 8]\n",
      "['EM', 10]\n",
      "['BA', 7]\n",
      "No. of flights operated by each airline:\n",
      "8\n",
      "10\n",
      "7\n"
     ]
    }
   ],
   "source": [
    "airline_details=[[\"AI\",8], [\"EM\",10],[\"BA\",7]]\n",
    "\n",
    "#To get the details of Emirates (EM) airline\n",
    "#Prints a list\n",
    "print(airline_details[1])\n",
    "\n",
    "#To get the number of flights operated by British Airways (BA)\n",
    "#[2][1] refers to 2nd list and 1st value, inside airline_details\n",
    "#Remember counting is 0 based\n",
    "print(airline_details[2][1])\n",
    "\n",
    "#To display the details of all airlines\n",
    "print(\"Airline details as a list:\")\n",
    "for airline in airline_details:\n",
    "    print(airline)\n",
    "\n",
    "#To display the number of flights operated by each airline\n",
    "print(\"No. of flights operated by each airline:\")\n",
    "for airline in airline_details:\n",
    "        print(airline[1])    "
   ]
  },
  {
   "cell_type": "code",
   "execution_count": 21,
   "metadata": {},
   "outputs": [
    {
     "ename": "IndentationError",
     "evalue": "unexpected indent (<ipython-input-21-5a887f061129>, line 4)",
     "output_type": "error",
     "traceback": [
      "\u001b[1;36m  File \u001b[1;32m\"<ipython-input-21-5a887f061129>\"\u001b[1;36m, line \u001b[1;32m4\u001b[0m\n\u001b[1;33m    print(list1[5])\u001b[0m\n\u001b[1;37m    ^\u001b[0m\n\u001b[1;31mIndentationError\u001b[0m\u001b[1;31m:\u001b[0m unexpected indent\n"
     ]
    }
   ],
   "source": [
    "list1=[5,10,15,20,25]\n",
    "print(len(list1))\n",
    "print(list1[4])\n",
    " print(list1[5])\n",
    "print(list1[4:5])\n",
    " list1[2]=12\n",
    "print(list1)\n",
    "list1=list1+[8,9]"
   ]
  },
  {
   "cell_type": "code",
   "execution_count": 22,
   "metadata": {},
   "outputs": [
    {
     "name": "stdout",
     "output_type": "stream",
     "text": [
      "[0, 0, 10, 20, 30]\n"
     ]
    }
   ],
   "source": [
    "list=[0]*5\n",
    "for i in range(1,5):\n",
    "    list[i]=(i-1)*10\n",
    "print(list)"
   ]
  },
  {
   "cell_type": "code",
   "execution_count": 6,
   "metadata": {},
   "outputs": [
    {
     "name": "stdout",
     "output_type": "stream",
     "text": [
      "[1684, 1688, 1692, 1696, 1704, 1708, 1712, 1716, 1720, 1724, 1728, 1732, 1736, 1740, 1744]\n"
     ]
    }
   ],
   "source": [
    "def find_leap_years(given_year):\n",
    "\n",
    "    # Write your logic here\n",
    "    list_of_leap_years=[]\n",
    "    while len(list_of_leap_years) != 15:\n",
    "        if (( given_year%400 == 0)or (( given_year%4 == 0 ) and ( given_year%100 != 0))):\n",
    "            list_of_leap_years.append(given_year)\n",
    "        given_year= given_year+1\n",
    "    return list_of_leap_years\n",
    "\n",
    "list_of_leap_years=find_leap_years(1684)\n",
    "print(list_of_leap_years)"
   ]
  },
  {
   "cell_type": "code",
   "execution_count": 17,
   "metadata": {},
   "outputs": [
    {
     "name": "stdout",
     "output_type": "stream",
     "text": [
      "68347.75\n"
     ]
    }
   ],
   "source": [
    " #PF-Assgn-23\n",
    "def calculate_bill_amount(gems_list, price_list, reqd_gems,reqd_quantity):\n",
    "    bill_amount=0\n",
    "    i=0\n",
    "    #Write your logic here\n",
    "    for s in reqd_gems:\n",
    "        if s in gems_list:\n",
    "            a = gems_list.index(s)\n",
    "            bill_amount += price_list[a]*reqd_quantity[i]\n",
    "            i = i+1\n",
    "        else:\n",
    "            bill_amount = -1\n",
    "            break\n",
    "    if bill_amount>30000 :\n",
    "        bill_amount = bill_amount - bill_amount*0.05\n",
    "    return bill_amount\n",
    "\n",
    "#List of gems available in the store\n",
    "gems_list=[\"Emerald\",\"Ivory\",\"Jasper\",\"Ruby\",\"Garnet\"]\n",
    "\n",
    "#Price of gems available in the store. gems_list and price_list have one-to-one correspondence\n",
    "price_list=[1760,2119,1599,3920,3999]\n",
    "\n",
    "#List of gems required by the customer\n",
    "reqd_gems=[\"Ivory\",\"Emerald\",\"Garnet\"]\n",
    "\n",
    "#Quantity of gems required by the customer. reqd_gems and reqd_quantity have one-to-one correspondence\n",
    "reqd_quantity=[3,10,12]\n",
    "\n",
    "bill_amount=calculate_bill_amount(gems_list, price_list, reqd_gems, reqd_quantity)\n",
    "print(bill_amount)"
   ]
  },
  {
   "cell_type": "code",
   "execution_count": 16,
   "metadata": {},
   "outputs": [],
   "source": [
    "def solve(numLegs, numHeads):\n",
    "    for numChick in range(0, numHeads + 1): #for every number in the range 0 - the number of heads + 1, numChick = that number\n",
    "        numPigs = numHeads - numChicks #the number of Pigs equals the number of heads entered minus the current number\n",
    "        totLegs = 4 * numPigs + 2* numChicks #the amount of legs is 4(amount of legs) * number of heads + 2(chicken legs) * the current number\n",
    "        if totLegs == numLegs: \n",
    "            return [numPigs, numChicks] #return the number of pigs and chickens\n",
    "    return[None, None] #else, return none, triggering \"no solution\"\n",
    "\n",
    "def barnYard():\n",
    "    heads = int(input('Enter number of heads:')) #\n",
    "    legs = int(input('Enter number of legs:'))\n",
    "    pigs, chickens = solve(legs, heads)\n",
    "    if pigs == None:\n",
    "        print (\"there is no solution\")\n",
    "    else:\n",
    "        print (\"number of pigs:\" , pigs)\n",
    "        pirnt (\"number of chickes:\", chickens)"
   ]
  },
  {
   "cell_type": "code",
   "execution_count": 18,
   "metadata": {},
   "outputs": [
    {
     "ename": "NameError",
     "evalue": "name 'alex' is not defined",
     "output_type": "error",
     "traceback": [
      "\u001b[1;31m---------------------------------------------------------------------------\u001b[0m",
      "\u001b[1;31mNameError\u001b[0m                                 Traceback (most recent call last)",
      "\u001b[1;32m<ipython-input-18-e08cd297580e>\u001b[0m in \u001b[0;36m<module>\u001b[1;34m()\u001b[0m\n\u001b[1;32m----> 1\u001b[1;33m \u001b[0malex\u001b[0m\u001b[1;33m.\u001b[0m\u001b[0mcolor\u001b[0m\u001b[1;33m(\u001b[0m\u001b[1;34m\"green\"\u001b[0m\u001b[1;33m)\u001b[0m\u001b[1;33m\u001b[0m\u001b[0m\n\u001b[0m\u001b[0;32m      2\u001b[0m \u001b[1;32mfor\u001b[0m \u001b[0mcounter\u001b[0m \u001b[1;32min\u001b[0m \u001b[0mrange\u001b[0m\u001b[1;33m(\u001b[0m\u001b[1;36m1\u001b[0m\u001b[1;33m,\u001b[0m\u001b[1;36m5\u001b[0m\u001b[1;33m)\u001b[0m\u001b[1;33m:\u001b[0m\u001b[1;33m\u001b[0m\u001b[0m\n\u001b[0;32m      3\u001b[0m     \u001b[0malex\u001b[0m\u001b[1;33m.\u001b[0m\u001b[0mcircle\u001b[0m\u001b[1;33m(\u001b[0m\u001b[1;36m20\u001b[0m\u001b[1;33m*\u001b[0m\u001b[0mcounter\u001b[0m\u001b[1;33m)\u001b[0m\u001b[1;33m\u001b[0m\u001b[0m\n\u001b[0;32m      4\u001b[0m \u001b[0malex\u001b[0m\u001b[1;33m.\u001b[0m\u001b[0mcolor\u001b[0m\u001b[1;33m(\u001b[0m\u001b[1;34m\"red\"\u001b[0m\u001b[1;33m)\u001b[0m\u001b[1;33m\u001b[0m\u001b[0m\n\u001b[0;32m      5\u001b[0m \u001b[0malex\u001b[0m\u001b[1;33m.\u001b[0m\u001b[0mleft\u001b[0m\u001b[1;33m(\u001b[0m\u001b[1;36m90\u001b[0m\u001b[1;33m)\u001b[0m\u001b[1;33m\u001b[0m\u001b[0m\n",
      "\u001b[1;31mNameError\u001b[0m: name 'alex' is not defined"
     ]
    }
   ],
   "source": [
    "alex.color(\"green\")\n",
    "for counter in range(1,5):\n",
    "    alex.circle(20*counter)\n",
    "alex.color(\"red\")\n",
    "alex.left(90)\n",
    "for counter in range(1,5):\n",
    "    alex.circle(20*counter)\n",
    "alex.color(\"blue\")\n",
    "alex.right(180)\n",
    "for counter in range(1,5):\n",
    "    alex.circle(20*counter)"
   ]
  },
  {
   "cell_type": "code",
   "execution_count": 21,
   "metadata": {},
   "outputs": [
    {
     "ename": "AttributeError",
     "evalue": "'tuple' object has no attribute 'push'",
     "output_type": "error",
     "traceback": [
      "\u001b[1;31m---------------------------------------------------------------------------\u001b[0m",
      "\u001b[1;31mAttributeError\u001b[0m                            Traceback (most recent call last)",
      "\u001b[1;32m<ipython-input-21-5016675134e7>\u001b[0m in \u001b[0;36m<module>\u001b[1;34m()\u001b[0m\n\u001b[0;32m      1\u001b[0m \u001b[0mt\u001b[0m\u001b[1;33m=\u001b[0m\u001b[1;33m(\u001b[0m\u001b[1;33m)\u001b[0m\u001b[1;33m\u001b[0m\u001b[0m\n\u001b[1;32m----> 2\u001b[1;33m \u001b[0mt\u001b[0m\u001b[1;33m.\u001b[0m\u001b[0mpush\u001b[0m\u001b[1;33m(\u001b[0m\u001b[1;34m\"Amar\"\u001b[0m\u001b[1;33m)\u001b[0m\u001b[1;33m\u001b[0m\u001b[0m\n\u001b[0m\u001b[0;32m      3\u001b[0m \u001b[0mprint\u001b[0m\u001b[1;33m(\u001b[0m\u001b[0mt\u001b[0m\u001b[1;33m)\u001b[0m\u001b[1;33m\u001b[0m\u001b[0m\n",
      "\u001b[1;31mAttributeError\u001b[0m: 'tuple' object has no attribute 'push'"
     ]
    }
   ],
   "source": [
    "t=()\n",
    "t.push(\"Amar\")\n",
    "print(t)"
   ]
  },
  {
   "cell_type": "code",
   "execution_count": 81,
   "metadata": {},
   "outputs": [
    {
     "name": "stdout",
     "output_type": "stream",
     "text": [
      "[30]\n",
      "[30]\n",
      "30\n"
     ]
    }
   ],
   "source": [
    "list1=[]\n",
    "list2=[]\n",
    "for i in range(30,30+1):\n",
    "    list2.append(i)\n",
    "print(list2)\n",
    "for i in range(30,30+1,1):\n",
    "    if int(i/10) > 0 and int(i/100)==0 :\n",
    "        sum = i%10 + int(i/10)\n",
    "        if sum % 3== 0 and i%5 == 0:\n",
    "            list1.append(i)\n",
    "        else:\n",
    "            continue\n",
    "    else:\n",
    "        continue\n",
    "print(list1)\n",
    "if not list1:\n",
    "    print(\"Lists empty yo\")\n",
    "else:\n",
    "    maxnum = list1[0]\n",
    "    for i in list1:\n",
    "        if maxnum<i:\n",
    "            maxnum = i\n",
    "print(maxnum)"
   ]
  },
  {
   "cell_type": "code",
   "execution_count": 70,
   "metadata": {},
   "outputs": [],
   "source": [
    "def find_max(num1, num2):\n",
    "    max_num=-1\n",
    "    maxl=[]\n",
    "    if num1 > num2:\n",
    "        return -1\n",
    "    else:\n",
    "        for i in range(num1,num2):\n",
    "            if int(i/10) > 0 and int(i/100)==0:\n",
    "                sum = i%10 + int(i/10)\n",
    "                if sum % 3== 0 and i%5 == 0:\n",
    "                    maxl.append(i)\n",
    "                else:\n",
    "                    continue\n",
    "            else:\n",
    "                continue\n",
    "    if not maxl:\n",
    "        return -1\n",
    "    else:\n",
    "        max_num = maxl[0]\n",
    "        for i in maxl:\n",
    "            if max_num < i:\n",
    "                max_num = i\n",
    "    return max_num\n"
   ]
  },
  {
   "cell_type": "code",
   "execution_count": 72,
   "metadata": {},
   "outputs": [
    {
     "name": "stdout",
     "output_type": "stream",
     "text": [
      "15\n"
     ]
    }
   ],
   "source": [
    "max_num=find_max(3,30)\n",
    "print(max_num)"
   ]
  },
  {
   "cell_type": "code",
   "execution_count": null,
   "metadata": {},
   "outputs": [],
   "source": []
  }
 ],
 "metadata": {
  "kernelspec": {
   "display_name": "Python 3",
   "language": "python",
   "name": "python3"
  },
  "language_info": {
   "codemirror_mode": {
    "name": "ipython",
    "version": 3
   },
   "file_extension": ".py",
   "mimetype": "text/x-python",
   "name": "python",
   "nbconvert_exporter": "python",
   "pygments_lexer": "ipython3",
   "version": "3.6.4"
  }
 },
 "nbformat": 4,
 "nbformat_minor": 2
}
