{
 "cells": [
  {
   "cell_type": "code",
   "execution_count": 1,
   "metadata": {},
   "outputs": [
    {
     "name": "stdout",
     "output_type": "stream",
     "text": [
      "This airline allows baggage limit till 30 kgs\n",
      "Pay the extra baggage charge of 500 rupees\n",
      "This airline now allows baggage limit till 45 kgs\n",
      "Pay the extra baggage charge of 500 rupees\n"
     ]
    }
   ],
   "source": [
    "wt_limit=30\n",
    "\n",
    "def baggage_check(baggage_wt):\n",
    "    extra_baggage_charge=0\n",
    "    if not(baggage_wt>=0 and baggage_wt<=wt_limit):\n",
    "        extra_baggage=baggage_wt-wt_limit\n",
    "        extra_baggage_charge=extra_baggage*100\n",
    "    return extra_baggage_charge\n",
    "\n",
    "def update_baggage_limit(new_wt_limit):\n",
    "    wt_limit=new_wt_limit\n",
    "    print(\"This airline now allows baggage limit till\",wt_limit,\"kgs\")\n",
    "\n",
    "print(\"This airline allows baggage limit till\",wt_limit,\"kgs\")\n",
    "print(\"Pay the extra baggage charge of\",baggage_check(35),\"rupees\")\n",
    "update_baggage_limit(45)\n",
    "print(\"Pay the extra baggage charge of\",baggage_check(35),\"rupees\")"
   ]
  },
  {
   "cell_type": "code",
   "execution_count": 2,
   "metadata": {},
   "outputs": [
    {
     "name": "stdout",
     "output_type": "stream",
     "text": [
      "0\n",
      "0\n"
     ]
    }
   ],
   "source": [
    "result=0\n",
    "def find_sum(num1,num2):\n",
    "    if(num1!=num2):\n",
    "        result=num1+num2\n",
    "    else:\n",
    "        result=2*(num1+num2)\n",
    "find_sum(3,4)\n",
    "print(result)\n",
    "find_sum(5,5)\n",
    "print(result)"
   ]
  },
  {
   "cell_type": "code",
   "execution_count": 3,
   "metadata": {},
   "outputs": [
    {
     "ename": "NameError",
     "evalue": "name 'result_avg' is not defined",
     "output_type": "error",
     "traceback": [
      "\u001b[1;31m---------------------------------------------------------------------------\u001b[0m",
      "\u001b[1;31mNameError\u001b[0m                                 Traceback (most recent call last)",
      "\u001b[1;32m<ipython-input-3-86185464f166>\u001b[0m in \u001b[0;36m<module>\u001b[1;34m()\u001b[0m\n\u001b[0;32m      5\u001b[0m     \u001b[0mresult_avg\u001b[0m\u001b[1;33m=\u001b[0m\u001b[0mresult_sum\u001b[0m\u001b[1;33m/\u001b[0m\u001b[0mlen\u001b[0m\u001b[1;33m(\u001b[0m\u001b[0mlist_num\u001b[0m\u001b[1;33m)\u001b[0m\u001b[1;33m\u001b[0m\u001b[0m\n\u001b[0;32m      6\u001b[0m \u001b[0mfind_avg\u001b[0m\u001b[1;33m(\u001b[0m\u001b[1;33m[\u001b[0m\u001b[1;36m5\u001b[0m\u001b[1;33m,\u001b[0m\u001b[1;36m8\u001b[0m\u001b[1;33m,\u001b[0m\u001b[1;36m5\u001b[0m\u001b[1;33m]\u001b[0m\u001b[1;33m)\u001b[0m\u001b[1;33m\u001b[0m\u001b[0m\n\u001b[1;32m----> 7\u001b[1;33m \u001b[0mprint\u001b[0m\u001b[1;33m(\u001b[0m\u001b[0mresult_avg\u001b[0m\u001b[1;33m)\u001b[0m\u001b[1;33m\u001b[0m\u001b[0m\n\u001b[0m",
      "\u001b[1;31mNameError\u001b[0m: name 'result_avg' is not defined"
     ]
    }
   ],
   "source": [
    "def find_avg(list_num):\n",
    "    result_sum=0\n",
    "    for num in list_num:\n",
    "        result_sum+=num\n",
    "    result_avg=result_sum/len(list_num)\n",
    "find_avg([5,8,5])\n",
    "print(result_avg)"
   ]
  },
  {
   "cell_type": "code",
   "execution_count": 4,
   "metadata": {},
   "outputs": [
    {
     "name": "stdout",
     "output_type": "stream",
     "text": [
      "4 3 4 5 "
     ]
    }
   ],
   "source": [
    "def func(word, char=\"A\"):\n",
    "    if(char==\"A\"):\n",
    "        return len(word[1:])\n",
    "    elif(char==\"B\"):\n",
    "        return len(word[2:])\n",
    "    else:\n",
    "        return len(word)\n",
    "\n",
    "print(func(\"Apple\",\"A\"),end=\" \")\n",
    "print(func(\"Apple\",\"B\"),end=\" \")\n",
    "print(func(\"Apple\"),end=\" \")\n",
    "print(func(\"Apple\",\"C\"),end=\" \")"
   ]
  },
  {
   "cell_type": "code",
   "execution_count": 80,
   "metadata": {},
   "outputs": [],
   "source": [
    "def factorial(number):\n",
    "    pr=1\n",
    "    for j in range(1,number+1):\n",
    "        pr*=j\n",
    "    return pr\n",
    "def strong(list1):\n",
    "    sum1=0\n",
    "    rem =0\n",
    "    list2=[]\n",
    "    for i in list1:\n",
    "        t=i\n",
    "        while i!=0:\n",
    "            sum1 += factorial(i%10)\n",
    "            i=i//10\n",
    "        if sum1 == 0:\n",
    "            pass\n",
    "        if sum1 == t:\n",
    "            print(sum1)\n",
    "            list2.append(sum1)\n",
    "        sum1=0\n",
    "    print(list2)"
   ]
  },
  {
   "cell_type": "code",
   "execution_count": 81,
   "metadata": {},
   "outputs": [
    {
     "name": "stdout",
     "output_type": "stream",
     "text": [
      "145\n",
      "2\n",
      "[145, 2]\n"
     ]
    }
   ],
   "source": [
    "list1=[145,375,100,2,10]\n",
    "strong(list1)"
   ]
  },
  {
   "cell_type": "code",
   "execution_count": 90,
   "metadata": {},
   "outputs": [],
   "source": [
    "#PF-Tryout\n",
    "def Withdraw(account_list,balance_list,amount,account_number):\n",
    "    flag=None\n",
    "    for index in range(0,len(account_list)):\n",
    "        if(account_list[index]==account_number):\n",
    "            flag=True\n",
    "            value=index\n",
    "            if(flag==True):\n",
    "                balance=balance_list[value]\n",
    "                new_balance=balance-amount\n",
    "                if(new_balance >= 500):\n",
    "                    balance_list[value]=new_balance\n",
    "                    print(\"Transaction completed successfully\")\n",
    "                    print(\"Balance Amount :\", new_balance)\n",
    "                else:\n",
    "                    print(\"Insufficient Balance\")\n",
    "            else:\n",
    "                print(\"Invalid Account number\")\n",
    "def Withdrawl(account_list,balance_list,amount,account_number):\n",
    "    for index in range(0,len(account_list)):\n",
    "        if(account_list[index]==account_number):\n",
    "            flag=True\n",
    "            value=index\n",
    "            if(flag==True):\n",
    "                balance=balance_list[value]\n",
    "                new_balance=balance+amount\n",
    "                balance_list[value]=new_balance\n",
    "                print(\"Transaction completed successfully\")\n",
    "                print(\"Balance Amount :\", new_balance)\n",
    "            else:\n",
    "                print(\"Invalid Account number\")\n",
    "def Balance_Enquiry(account_list,balance_list,amount,account_number):\n",
    "    for index in range(0,len(account_list)):\n",
    "        if(account_list[index]==account_number):\n",
    "            flag=True\n",
    "            value=index\n",
    "            if(flag==True):\n",
    "                balance=balance_list[value]\n",
    "                print(balance)\n",
    "            else:\n",
    "                print(\"Invalid Account number\")\n",
    "        else:\n",
    "            print(\"Invalid Transaction Type\")"
   ]
  },
  {
   "cell_type": "code",
   "execution_count": 91,
   "metadata": {},
   "outputs": [],
   "source": [
    "def Transaction(transaction_type,account_list,balance_list,amount,account_number):\n",
    "    if(transaction_type==\"Withdraw\"):\n",
    "        Withdraw(account_list,balance_list,amount,account_number)\n",
    "    elif(transaction_type==\"Deposit\"):\n",
    "        Deposit(account_list,balance_list,amount,account_number)\n",
    "    elif(transaction_type==\"Balance Enquiry\"):\n",
    "        Balance_Enquiry(account_list,balance_list,amount,account_number)\n"
   ]
  },
  {
   "cell_type": "code",
   "execution_count": 111,
   "metadata": {},
   "outputs": [
    {
     "name": "stdout",
     "output_type": "stream",
     "text": [
      "Transaction completed successfully\n",
      "Balance Amount : 6000\n"
     ]
    }
   ],
   "source": [
    "    \n",
    "account_list=[1001,1002,1003,1004,1005]\n",
    "balance_list=[2500,10000,7000,1500,500]\n",
    "amount=1000\n",
    "account_number=1003\n",
    "transaction_type=\"Withdraw\"\n",
    "Transaction(transaction_type,account_list,balance_list,amount,account_number)"
   ]
  },
  {
   "cell_type": "code",
   "execution_count": 128,
   "metadata": {},
   "outputs": [],
   "source": [
    "def winner(*match_tuple):\n",
    "    t1 = match_tuple.count(\"Team1\")\n",
    "    t2 = match_tuple.count(\"Team2\")\n",
    "    if t1 > t2:\n",
    "        return \"Team1\"\n",
    "    elif t2 > t1:\n",
    "        return \"Team2\"\n",
    "    else:\n",
    "        return \"Tie\""
   ]
  },
  {
   "cell_type": "code",
   "execution_count": 129,
   "metadata": {},
   "outputs": [
    {
     "name": "stdout",
     "output_type": "stream",
     "text": [
      "Team1\n"
     ]
    }
   ],
   "source": [
    "print(winner(\"Team1\",\"Team2\",\"Team1\"))\n"
   ]
  },
  {
   "cell_type": "code",
   "execution_count": 134,
   "metadata": {},
   "outputs": [],
   "source": [
    "def merge(list1,list2):\n",
    "    list3=[]\n",
    "    for i in list1:\n",
    "        list3.append(i)\n",
    "    for i in list2:\n",
    "        list3.append(i)\n",
    "    return list3\n",
    "def sort_list(list3):\n",
    "    list3.sort()\n",
    "    return list3"
   ]
  },
  {
   "cell_type": "code",
   "execution_count": 135,
   "metadata": {},
   "outputs": [
    {
     "name": "stdout",
     "output_type": "stream",
     "text": [
      "[1, 2, 3, 4, 1, 2, 3, 4, 5, 4, 6]\n",
      "[1, 1, 2, 2, 3, 3, 4, 4, 4, 5, 6]\n"
     ]
    }
   ],
   "source": [
    "merged_list=merge(list1=[1,2,3,4,1] ,list2=[2,3,4,5,4,6])\n",
    "print(merged_list)\n",
    "sorted_merged_list=sort_list(merged_list)\n",
    "print(sorted_merged_list)"
   ]
  },
  {
   "cell_type": "code",
   "execution_count": 162,
   "metadata": {},
   "outputs": [],
   "source": [
    "def func(list1,num):\n",
    "    count=0\n",
    "    list2=[]\n",
    "    for i in list1:\n",
    "        s = num-i\n",
    "        if s in list1 and s not in list2:\n",
    "            list2.append(s)\n",
    "            count+=1\n",
    "    count = int(count/2)\n",
    "    print(count)"
   ]
  },
  {
   "cell_type": "code",
   "execution_count": 163,
   "metadata": {},
   "outputs": [
    {
     "name": "stdout",
     "output_type": "stream",
     "text": [
      "4\n"
     ]
    }
   ],
   "source": [
    "list1=[3, 4, 1, 8, 5, 9, 0, 6]\n",
    "func(list1,9)"
   ]
  },
  {
   "cell_type": "code",
   "execution_count": 210,
   "metadata": {},
   "outputs": [],
   "source": [
    "def average(list1):\n",
    "    sum1=0\n",
    "    avg=0\n",
    "    count=0\n",
    "    for i in list1:\n",
    "        sum1 += i\n",
    "    avg=sum1/len(list1)\n",
    "    for i in list1:\n",
    "        if i > avg:\n",
    "            count+=1\n",
    "    return (count/len(list1))*100\n",
    "def sorting(list1):\n",
    "    return sorted(list1)\n",
    "\n",
    "def freq(list1):\n",
    "    dict={}\n",
    "    list2=[]\n",
    "    for i in range(1,25,1):\n",
    "        dict[i]=0\n",
    "    for i in list1:\n",
    "        if i in dict:\n",
    "            dict[i]=list1.count(i)\n",
    "    for key in dict:\n",
    "        list2.append(dict[key])\n",
    "    return list2"
   ]
  },
  {
   "cell_type": "code",
   "execution_count": 212,
   "metadata": {},
   "outputs": [
    {
     "name": "stdout",
     "output_type": "stream",
     "text": [
      "70.0\n",
      "[0, 1, 0, 0, 1, 0, 0, 0, 0, 0, 0, 1, 0, 0, 0, 0, 0, 2, 0, 2, 1, 0, 0, 1]\n",
      "[2, 5, 12, 18, 18, 20, 20, 21, 24, 25]\n"
     ]
    }
   ],
   "source": [
    "list_of_marks=(12, 18, 25, 24, 2, 5, 18, 20, 20, 21)\n",
    "print(average(list_of_marks))\n",
    "print(freq(list_of_marks))\n",
    "print(sorting(list_of_marks))"
   ]
  },
  {
   "cell_type": "code",
   "execution_count": 209,
   "metadata": {},
   "outputs": [
    {
     "name": "stdout",
     "output_type": "stream",
     "text": [
      "[0, 1, 0, 0, 1, 0, 0, 0, 0, 0, 0, 1, 0, 0, 0, 0, 0, 2, 0, 2, 1, 0, 0, 1]\n"
     ]
    }
   ],
   "source": [
    "list1=(12,18,25,24,2,5,18,20,20,21)\n",
    "dict={}\n",
    "list2=[]\n",
    "for i in range(1,25,1):\n",
    "    dict[i]=0\n",
    "for i in list1:\n",
    "    if i in dict:\n",
    "        dict[i]=list1.count(i)\n",
    "for key in dict:\n",
    "    list2.append(dict[key])\n",
    "print(list2)"
   ]
  },
  {
   "cell_type": "code",
   "execution_count": 226,
   "metadata": {},
   "outputs": [
    {
     "name": "stdout",
     "output_type": "stream",
     "text": [
      "674523\n",
      "674523\n"
     ]
    }
   ],
   "source": [
    "number_list=[23,45,67]\n",
    "a=sorted(number_list, reverse=True)\n",
    "str1 =''.join(str(i) for i in a)\n",
    "print(str1)\n",
    "b=int(str1)\n",
    "print(b)"
   ]
  },
  {
   "cell_type": "code",
   "execution_count": 258,
   "metadata": {},
   "outputs": [],
   "source": [
    "child_id=(11, 12, 13, 14, 15)\n",
    "chocolates_received=[22, 33, 44, 55, 66]\n",
    "\n",
    "def find_if_there(child_id_rewarded,extra_chocolates):\n",
    "    if child_id_rewarded in child_id:\n",
    "        i = child_id.index(child_id_rewarded)\n",
    "        if extra_chocolates >1:\n",
    "            chocolates_received[i] += extra_chocolates\n",
    "            print(chocolates_received)\n",
    "        else:\n",
    "            print(\"Extra chocolates is less than 1\")\n",
    "    else:\n",
    "        print(\"Child id is invalid\")\n",
    "    "
   ]
  },
  {
   "cell_type": "code",
   "execution_count": 269,
   "metadata": {},
   "outputs": [
    {
     "name": "stdout",
     "output_type": "stream",
     "text": [
      "[27, 38, 44, 55, 66]\n"
     ]
    }
   ],
   "source": [
    "find_if_there(12,5)"
   ]
  },
  {
   "cell_type": "code",
   "execution_count": 309,
   "metadata": {},
   "outputs": [],
   "source": [
    "def double_check(number):\n",
    "    list1=[]\n",
    "    num = 2* number\n",
    "    while num!=0:\n",
    "        list1.append(num%10)\n",
    "        num//=10\n",
    "    if len(str(number)) != len(list1):\n",
    "        return False\n",
    "    else:\n",
    "        while number !=0:\n",
    "            if number%10 not in list1:\n",
    "                return False\n",
    "                break\n",
    "            else:\n",
    "                number//=10\n",
    "        return True"
   ]
  },
  {
   "cell_type": "code",
   "execution_count": 310,
   "metadata": {},
   "outputs": [
    {
     "data": {
      "text/plain": [
       "True"
      ]
     },
     "execution_count": 310,
     "metadata": {},
     "output_type": "execute_result"
    }
   ],
   "source": [
    "double_check(125874)"
   ]
  },
  {
   "cell_type": "code",
   "execution_count": 354,
   "metadata": {},
   "outputs": [],
   "source": [
    "menu=('Veg Roll','Noodles','Fried Rice','Soup')\n",
    "quantity_available=[2,200,250,3]\n",
    "\n",
    "def place_order(*item_tuple):\n",
    "    for i in range(len(item_tuple)):\n",
    "        if i%2==0:\n",
    "            if item_tuple[i] in menu:\n",
    "                if check_quantity_available(menu.index(item_tuple[i]),item_tuple[i+1]):\n",
    "                    print(item_tuple[i],\" is available\")\n",
    "                else:\n",
    "                    print(item_tuple[i],\"stock is over\")\n",
    "            else:\n",
    "                print(item_tuple[i],\"is not available\")\n",
    "            \n",
    "def check_quantity_available(index,quantity_requested):\n",
    "    print(menu[index])\n",
    "    print(quantity_available[index])\n",
    "    if quantity_available[index] >= quantity_requested:\n",
    "        quantity_available[index] -=quantity_requested\n",
    "        return True\n",
    "    else:\n",
    "        return False"
   ]
  },
  {
   "cell_type": "code",
   "execution_count": 355,
   "metadata": {},
   "outputs": [
    {
     "name": "stdout",
     "output_type": "stream",
     "text": [
      "Veg Roll\n",
      "2\n",
      "Veg Roll  is available\n",
      "Noodles\n",
      "200\n",
      "Noodles  is available\n",
      "Soup\n",
      "3\n",
      "Soup  is available\n",
      "Veg Roll\n",
      "0\n",
      "Veg Roll stock is over\n",
      "Fried Rice1 is not available\n"
     ]
    }
   ],
   "source": [
    "place_order(\"Veg Roll\",2,\"Noodles\",2)\n",
    "place_order(\"Soup\",1,\"Veg Roll\", 2, \"Fried Rice1\",1)"
   ]
  },
  {
   "cell_type": "code",
   "execution_count": null,
   "metadata": {},
   "outputs": [],
   "source": []
  }
 ],
 "metadata": {
  "kernelspec": {
   "display_name": "Python 3",
   "language": "python",
   "name": "python3"
  },
  "language_info": {
   "codemirror_mode": {
    "name": "ipython",
    "version": 3
   },
   "file_extension": ".py",
   "mimetype": "text/x-python",
   "name": "python",
   "nbconvert_exporter": "python",
   "pygments_lexer": "ipython3",
   "version": "3.6.4"
  }
 },
 "nbformat": 4,
 "nbformat_minor": 2
}
