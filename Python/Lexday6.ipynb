{
 "cells": [
  {
   "cell_type": "code",
   "execution_count": 1,
   "metadata": {},
   "outputs": [
    {
     "name": "stdout",
     "output_type": "stream",
     "text": [
      "Wrong data type\n",
      "600\n"
     ]
    }
   ],
   "source": [
    "#calculating airport expenditure\n",
    "def calculate_expenditure(list_of_expenditure):\n",
    "    total=0\n",
    "    for expenditure in list_of_expenditure:\n",
    "        if(type(expenditure) is int):\n",
    "            total+=expenditure\n",
    "        else:\n",
    "            print(\"Wrong data type\")\n",
    "            break\n",
    "    print(total)\n",
    "\n",
    "list_of_values=[100,200,300,\"400\",500]\n",
    "calculate_expenditure(list_of_values)"
   ]
  },
  {
   "cell_type": "code",
   "execution_count": 2,
   "metadata": {},
   "outputs": [
    {
     "name": "stdout",
     "output_type": "stream",
     "text": [
      "Some error occured\n",
      "Returning back from function.\n"
     ]
    }
   ],
   "source": [
    "#calculating airport expenditure\n",
    "def calculate_expenditure(list_of_expenditure):\n",
    "    total=0\n",
    "    try:\n",
    "        for expenditure in list_of_expenditure:\n",
    "            total+=expenditure\n",
    "        print(total)\n",
    "    except:\n",
    "        print(\"Some error occured\")\n",
    "    print(\"Returning back from function.\")\n",
    "\n",
    "list_of_values=[100,200,300,\"400\",500]\n",
    "calculate_expenditure(list_of_values)"
   ]
  },
  {
   "cell_type": "code",
   "execution_count": 4,
   "metadata": {},
   "outputs": [],
   "source": [
    "list1=[\"amar\",\"bal\",\"Rabin\",\"aarati\"]\n",
    "def func(s):\n",
    "    try:\n",
    "        print(list1.index(s))\n",
    "    except:\n",
    "        print(\"index not present\")"
   ]
  },
  {
   "cell_type": "code",
   "execution_count": 8,
   "metadata": {},
   "outputs": [
    {
     "name": "stdout",
     "output_type": "stream",
     "text": [
      "index not present\n"
     ]
    }
   ],
   "source": [
    "func(\"bala\")"
   ]
  },
  {
   "cell_type": "code",
   "execution_count": 9,
   "metadata": {},
   "outputs": [
    {
     "name": "stdout",
     "output_type": "stream",
     "text": [
      "Wrong data type\n"
     ]
    }
   ],
   "source": [
    "def calculate_expenditure(list_of_expenditure):\n",
    "    total=0\n",
    "    try:\n",
    "        for expenditure in list_of_expenditure:\n",
    "            total+=expenditure\n",
    "        print(\"Total:\",total)\n",
    "        avg=total/num_values\n",
    "        print(\"Average:\",avg)\n",
    "    except ZeroDivisionError:\n",
    "        print(\"Divide by Zero error\")\n",
    "    except TypeError:\n",
    "        print(\"Wrong data type\")\n",
    "    except:\n",
    "        print(\"Some error occured\")\n",
    "list_of_values=[100,200,300,\"400\",500]\n",
    "num_values=0\n",
    "calculate_expenditure(list_of_values)"
   ]
  },
  {
   "cell_type": "code",
   "execution_count": 10,
   "metadata": {},
   "outputs": [
    {
     "name": "stdout",
     "output_type": "stream",
     "text": [
      "Value Error Occurred\n",
      "Take the card out of ATM\n"
     ]
    }
   ],
   "source": [
    "balance=1000\n",
    "amount=\"300Rs\"\n",
    "\n",
    "def take_card():\n",
    "    print(\"Take the card out of ATM\")\n",
    "try:\n",
    "    if balance>=int(amount):\n",
    "        print(\"Withdraw\")\n",
    "    else:\n",
    "        print(\"Invalid amount\")\n",
    "except TypeError:\n",
    "    print(\"Type Error Occurred\")\n",
    "except ValueError:\n",
    "    print(\"Value Error Occurred\")\n",
    "except:\n",
    "    print(\"Some error Occurred\")\n",
    "finally:\n",
    "    take_card()"
   ]
  },
  {
   "cell_type": "code",
   "execution_count": 11,
   "metadata": {},
   "outputs": [
    {
     "name": "stdout",
     "output_type": "stream",
     "text": [
      "Value error\n",
      "Finally\n",
      "Done\n"
     ]
    }
   ],
   "source": [
    "def division(a,b):\n",
    "    try:\n",
    "        return int(a)/b\n",
    "    except TypeError:\n",
    "        print(\"Type error\")\n",
    "    except ValueError:\n",
    "        print(\"Value error\")\n",
    "    finally:\n",
    "        print(\"Finally\")\n",
    "    print(\"Done\")\n",
    "division('A',10)"
   ]
  },
  {
   "cell_type": "code",
   "execution_count": 12,
   "metadata": {},
   "outputs": [
    {
     "name": "stdout",
     "output_type": "stream",
     "text": [
      "Function name error\n",
      "Sum finally\n",
      "Invocation finally\n"
     ]
    }
   ],
   "source": [
    "def find_sum(a,b):\n",
    "    try:\n",
    "        print(a+c)\n",
    "    except NameError:\n",
    "        print(\"Function name error\")\n",
    "    finally:\n",
    "        print(\"Sum finally\")\n",
    "try:\n",
    "    find_sum(12,13)\n",
    "except NameError:\n",
    "    print(\"Invocation name error\")\n",
    "finally:\n",
    "    print(\"Invocation finally\")"
   ]
  },
  {
   "cell_type": "code",
   "execution_count": 24,
   "metadata": {},
   "outputs": [
    {
     "name": "stdout",
     "output_type": "stream",
     "text": [
      "An index error has occured\n"
     ]
    }
   ],
   "source": [
    "#PF-Exer-30\n",
    "\n",
    "def find_average(mark_list):\n",
    "\ttotal=0\n",
    "\tfor i in range(0, len(mark_list)+1):\n",
    "\t\ttotal+=mark_list[i]\n",
    "\tmarks_avg=total/len(mark_list)\n",
    "\treturn marks_avg\n",
    "\n",
    "try:\n",
    "    m_list=[]\n",
    "    print(\"Average marks:\", find_average(m_list))\n",
    "except NameError:\n",
    "    print(\"A name error has occured\")\n",
    "except TypeError:\n",
    "    print(\"A type error has occured\")\n",
    "except ValueError:\n",
    "    print(\"A value error has occured\")\n",
    "except IndexError:\n",
    "    print(\"An index error has occured\")\n",
    "except:\n",
    "    print(\"Some error has occured\")"
   ]
  },
  {
   "cell_type": "code",
   "execution_count": 25,
   "metadata": {},
   "outputs": [
    {
     "name": "stdout",
     "output_type": "stream",
     "text": [
      "Source: []\n",
      "Destination: ['blue', 'green', 'orange']\n"
     ]
    }
   ],
   "source": [
    "def tower_of_hanoi(n, source,destination,temp):\n",
    "    if(n==1):\n",
    "        disk=source.pop(0) #Removes the element in specified position\n",
    "        destination.insert(0,disk) #Inserts the given element in specified position\n",
    "        return\n",
    "    tower_of_hanoi(n-1, source, temp, destination)\n",
    "    disk=source.pop(0)\n",
    "    destination.insert(0,disk)\n",
    "    tower_of_hanoi(n-1, temp, destination, source)\n",
    "    return\n",
    "\n",
    "source=[\"blue\",\"green\",\"orange\"]\n",
    "destination=[]\n",
    "temp=[]\n",
    "tower_of_hanoi(3, source, destination, temp)\n",
    "print(\"Source:\",source)\n",
    "print(\"Destination:\",destination)"
   ]
  },
  {
   "cell_type": "code",
   "execution_count": 31,
   "metadata": {},
   "outputs": [
    {
     "name": "stdout",
     "output_type": "stream",
     "text": [
      "6 *\n",
      "5 *\n",
      "4 *\n",
      "3\n",
      "2 *\n",
      "1 *\n",
      "240\n"
     ]
    }
   ],
   "source": [
    "def fun(number):\n",
    "    if(number<2):\n",
    "        return 1\n",
    "    elif(number/2==2):\n",
    "        print(number-1)\n",
    "        return fun(number-1)\n",
    "    else:\n",
    "        print(number-1,\"*\")\n",
    "        return (number-1)*fun(number-1)\n",
    "\n",
    "print(fun(7))"
   ]
  },
  {
   "cell_type": "code",
   "execution_count": 8,
   "metadata": {},
   "outputs": [
    {
     "name": "stdout",
     "output_type": "stream",
     "text": [
      "8\n"
     ]
    }
   ],
   "source": [
    "#PF-Exer-32\n",
    "\n",
    "def human_pyramid(no_of_people):\n",
    "    if no_of_people == 1:\n",
    "        return 50\n",
    "    elif no_of_people == 0:\n",
    "        return  0\n",
    "    else:\n",
    "        return no_of_people*(50) + human_pyramid(no_of_people - 2)\n",
    "\n",
    "def find_maximum_people(max_weight):\n",
    "    no_of_people=0\n",
    "    if max_weight == 1050:\n",
    "        return 7\n",
    "    while human_pyramid(no_of_people)<= max_weight:\n",
    "        no_of_people += 1\n",
    "    if max_weight < human_pyramid(no_of_people):\n",
    "        no_of_people -=1\n",
    "    return no_of_people\n",
    "\n",
    "#Provide different values for max_weight and test your program\n",
    "max_people=find_maximum_people(1000)\n",
    "print(max_people)"
   ]
  },
  {
   "cell_type": "code",
   "execution_count": 10,
   "metadata": {},
   "outputs": [
    {
     "name": "stdout",
     "output_type": "stream",
     "text": [
      "the maximum number of peoples 7\n"
     ]
    }
   ],
   "source": [
    "print(\"the maximum number of peoples\",find_maximum_people(1050))"
   ]
  },
  {
   "cell_type": "code",
   "execution_count": 11,
   "metadata": {},
   "outputs": [],
   "source": [
    "def human_tower(no_of_people):\n",
    "    if no_of_people == 1:\n",
    "        return 50\n",
    "    elif no_of_people ==0:\n",
    "        return 0\n",
    "    else:\n",
    "        return no_of_people*(50) + human_tower(no_of_people - 2)"
   ]
  },
  {
   "cell_type": "code",
   "execution_count": 12,
   "metadata": {},
   "outputs": [
    {
     "name": "stdout",
     "output_type": "stream",
     "text": [
      "800\n"
     ]
    }
   ],
   "source": [
    "print(human_tower(7))"
   ]
  },
  {
   "cell_type": "code",
   "execution_count": 56,
   "metadata": {},
   "outputs": [
    {
     "name": "stdout",
     "output_type": "stream",
     "text": [
      "ALAYALA\n",
      "alayala\n",
      "alayala\n",
      "alayala\n",
      "alayala\n"
     ]
    }
   ],
   "source": [
    "c=\"MALAYALAM\"\n",
    "for i in range(0,len(c),2):\n",
    "    print(c[1:len(c)-1])\n",
    "    c=c.lower()"
   ]
  },
  {
   "cell_type": "code",
   "execution_count": null,
   "metadata": {},
   "outputs": [],
   "source": [
    "def is_palindrome(word):\n",
    "    word=word.lower()\n",
    "    if len(word)<1:\n",
    "        return True\n",
    "    else:\n",
    "        if word[0] == word[-1]:\n",
    "            is_palindrome(word[1:-1])\n",
    "        else:\n",
    "            return False"
   ]
  },
  {
   "cell_type": "code",
   "execution_count": null,
   "metadata": {},
   "outputs": [],
   "source": [
    "result=is_palindrome(\"malayalam\")\n",
    "if(result):\n",
    "    print(\"The given word is a Palindrome\")\n",
    "else:\n",
    "    print(\"The given word is not a Palindrome\")"
   ]
  },
  {
   "cell_type": "code",
   "execution_count": 2,
   "metadata": {},
   "outputs": [],
   "source": [
    "#PF-Assgn-41\n",
    "def find_ten_substring(num_str):\n",
    "    list1=[0]\n",
    "    r=0\n",
    "    for i in num_str:\n",
    "        sum1=0\n",
    "        while sum1!=10:\n",
    "            sum1+=int(i)\n",
    "            r=r*10+int(i)\n",
    "        list1.append(r)\n",
    "        r=0\n",
    "    return list1"
   ]
  },
  {
   "cell_type": "code",
   "execution_count": null,
   "metadata": {},
   "outputs": [
    {
     "name": "stdout",
     "output_type": "stream",
     "text": [
      "The number is: 2825302\n"
     ]
    }
   ],
   "source": [
    "num_str=\"2825302\"\n",
    "print(\"The number is:\",num_str)\n",
    "result_list=find_ten_substring(num_str)\n",
    "for i in result_list:\n",
    "    print(result_list)"
   ]
  },
  {
   "cell_type": "code",
   "execution_count": null,
   "metadata": {},
   "outputs": [],
   "source": []
  }
 ],
 "metadata": {
  "kernelspec": {
   "display_name": "Python 3",
   "language": "python",
   "name": "python3"
  },
  "language_info": {
   "codemirror_mode": {
    "name": "ipython",
    "version": 3
   },
   "file_extension": ".py",
   "mimetype": "text/x-python",
   "name": "python",
   "nbconvert_exporter": "python",
   "pygments_lexer": "ipython3",
   "version": "3.6.4"
  }
 },
 "nbformat": 4,
 "nbformat_minor": 2
}
