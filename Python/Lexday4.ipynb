{
 "cells": [
  {
   "cell_type": "code",
   "execution_count": 1,
   "metadata": {},
   "outputs": [
    {
     "name": "stdout",
     "output_type": "stream",
     "text": [
      "Length of the PAN card number: 10\n",
      "PAN card\n",
      "Iterating the string using range()\n",
      "A\n",
      "A\n",
      "B\n",
      "G\n",
      "T\n",
      "6\n",
      "7\n",
      "1\n",
      "5\n",
      "H\n",
      "Iterating the string using keyword in\n",
      "A\n",
      "A\n",
      "B\n",
      "G\n",
      "T\n",
      "6\n",
      "7\n",
      "1\n",
      "5\n",
      "H\n",
      "Searching for a character in string\n",
      "Character is not present\n",
      "The numbers in the PAN card number: 6715\n",
      "Last but one 3 characters in the PAN card: 715\n"
     ]
    },
    {
     "ename": "TypeError",
     "evalue": "'str' object does not support item assignment",
     "output_type": "error",
     "traceback": [
      "\u001b[1;31m---------------------------------------------------------------------------\u001b[0m",
      "\u001b[1;31mTypeError\u001b[0m                                 Traceback (most recent call last)",
      "\u001b[1;32m<ipython-input-1-07d02ac050b5>\u001b[0m in \u001b[0;36m<module>\u001b[1;34m()\u001b[0m\n\u001b[0;32m     29\u001b[0m \u001b[0mprint\u001b[0m\u001b[1;33m(\u001b[0m\u001b[1;34m\"Last but one 3 characters in the PAN card:\"\u001b[0m\u001b[1;33m,\u001b[0m\u001b[0mpancard_number\u001b[0m\u001b[1;33m[\u001b[0m\u001b[1;33m-\u001b[0m\u001b[1;36m4\u001b[0m\u001b[1;33m:\u001b[0m\u001b[1;33m-\u001b[0m\u001b[1;36m1\u001b[0m\u001b[1;33m]\u001b[0m\u001b[1;33m)\u001b[0m\u001b[1;33m\u001b[0m\u001b[0m\n\u001b[0;32m     30\u001b[0m \u001b[1;33m\u001b[0m\u001b[0m\n\u001b[1;32m---> 31\u001b[1;33m \u001b[0mpancard_number\u001b[0m\u001b[1;33m[\u001b[0m\u001b[1;36m2\u001b[0m\u001b[1;33m]\u001b[0m\u001b[1;33m=\u001b[0m\u001b[1;34m\"A\"\u001b[0m \u001b[1;31m#This line will result in an error, i.e., string is immutable\u001b[0m\u001b[1;33m\u001b[0m\u001b[0m\n\u001b[0m\u001b[0;32m     32\u001b[0m \u001b[0mprint\u001b[0m\u001b[1;33m(\u001b[0m\u001b[0mpancard_number\u001b[0m\u001b[1;33m)\u001b[0m\u001b[1;33m\u001b[0m\u001b[0m\n",
      "\u001b[1;31mTypeError\u001b[0m: 'str' object does not support item assignment"
     ]
    }
   ],
   "source": [
    "#Creating a string\n",
    "pancard_number=\"AABGT6715H\"\n",
    "\n",
    "#Length of the string\n",
    "print(\"Length of the PAN card number:\", len(pancard_number))\n",
    "\n",
    "#Concatenating two strings\n",
    "name1 =\"PAN \"\n",
    "name2=\"card\"\n",
    "name=name1+name2\n",
    "print(name)\n",
    "\n",
    "print(\"Iterating the string using range()\")\n",
    "for index in range(0,len(pancard_number)):\n",
    "    print(pancard_number[index])\n",
    "    \n",
    "print(\"Iterating the string using keyword in\")\n",
    "for value in pancard_number:\n",
    "    print(value)\n",
    "\n",
    "print(\"Searching for a character in string\")\n",
    "if \"Z\" in pancard_number:\n",
    "    print(\"Character present\")\n",
    "else:\n",
    "    print(\"Character is not present\")\n",
    "\n",
    "#Slicing a string\n",
    "print(\"The numbers in the PAN card number:\", pancard_number[5:9])\n",
    "print(\"Last but one 3 characters in the PAN card:\",pancard_number[-4:-1])\n",
    "\n",
    "pancard_number[2]=\"A\" #This line will result in an error, i.e., string is immutable\n",
    "print(pancard_number)"
   ]
  },
  {
   "cell_type": "code",
   "execution_count": 2,
   "metadata": {},
   "outputs": [
    {
     "name": "stdout",
     "output_type": "stream",
     "text": [
      "2 AFE187B\n"
     ]
    }
   ],
   "source": [
    "pancard_list=[\"AABGT6715H\", \"UFFAC4352T\", \"IFSBD9163K\", \"JOOEC1225H\",\"RWXAFE187B\"] \n",
    "print(pancard_list[3][6], end=\" \")\n",
    "\n",
    "print(pancard_list[4][3:])"
   ]
  },
  {
   "cell_type": "code",
   "execution_count": 3,
   "metadata": {},
   "outputs": [
    {
     "name": "stdout",
     "output_type": "stream",
     "text": [
      "come to Mys\n"
     ]
    }
   ],
   "source": [
    "message=\"welcome to Mysore\"\n",
    "word=message[-7:]\n",
    "if(word==\"mysore\"):\n",
    "    print(\"got it\")\n",
    "else:\n",
    "    message=message[3:14]\n",
    "    print(message)"
   ]
  },
  {
   "cell_type": "code",
   "execution_count": 4,
   "metadata": {},
   "outputs": [
    {
     "name": "stdout",
     "output_type": "stream",
     "text": [
      "['AI:Ban:Lon:103', 'AI:Ban:Lon:104', 'AI:Ban:Lon:105', 'AI:Ban:Lon:106', 'AI:Ban:Lon:107']\n"
     ]
    }
   ],
   "source": [
    "def generate_ticket(airline,source,destination,no_of_passengers):\n",
    "    ticket_number_list=[]\n",
    "    ticket_list=[]\n",
    "    #Write your logic here\n",
    "    b = source[0:3]\n",
    "    c= destination[0:3]\n",
    "    for i in range(no_of_passengers):\n",
    "        ticket_list.append(airline+\":\"+b+\":\"+c+\":\"+str(101+i))\n",
    "    if no_of_passengers<5:\n",
    "        ticket_number_list = ticket_list\n",
    "    else:\n",
    "        ticket_number_list = ticket_list[-5:]\n",
    "    #Use the below return statement wherever applicable\n",
    "    return ticket_number_list\n",
    "\n",
    "#Provide different values for airline,source,destination,no_of_passengers and test your program\n",
    "print(generate_ticket(\"AI\",\"Bangalore\",\"London\",7))"
   ]
  },
  {
   "cell_type": "code",
   "execution_count": null,
   "metadata": {},
   "outputs": [],
   "source": [
    "#list of passengers\n",
    "passengers_list=[\"George\",\"Annie\", \"Jack\",\"Annie\",\"Henry\", \"Helen\",\"Maria\",\"George\",\"Jack\",\"Remo\"]\n",
    "print(passengers_list)\n",
    "print(\"After removing duplicates\")\n",
    "\n",
    "#set function - removes the duplicates from the list and returns a set\n",
    "unique_passengers=set(passengers_list)\n",
    "print(unique_passengers)\n",
    "\n",
    "#creating a set\n",
    "flight_set={500,520,600,345,520,634,600,500,200,200}\n",
    "print(flight_set)\n",
    "\n",
    "flights_at_src = [\"AI230\",\"BA944\",\"EM395\",\"AI704\",\"BA944\",\"AI704\"]\n",
    "flights_at_dest = [\"SI107\",\"AI034\",\"EM395\",\"AI704\",\"BA802\",\"SI236\"]\n",
    "print(\"flight at source\")\n",
    "print(flights_at_src)\n",
    "print(\"flight at destination\")\n",
    "print(flights_at_dest)\n",
    "\n",
    "#Creating list of unique flights at source and destination\n",
    "uniq_src_flights = set(flights_at_src)\n",
    "uniq_dest_flights = set(flights_at_dest)\n",
    "print(\"unique source flight\")\n",
    "print(\"uniq_src_flights\")\n",
    "print(\"Unique destination flights\")\n",
    "print(uniq_dest_flights)\n",
    "\n",
    "\n",
    "print(\"setA-setB -> Gives the elements that are only in setA\")\n",
    "print(\"List of flights only at source airport\")\n",
    "\n",
    "flights_only_at_src = uniq_src_flights-uniq_dest_flights\n",
    "print(flights_only_at_src)\n",
    "\n",
    "print(\"setA&setB -> Gives the common elements between setA and setB\")\n",
    "print(\"List of flights common to source and destination airports\")\n",
    "common_flights=uniq_src_flights&uniq_dest_flights\n",
    "print(common_flights)\n",
    "\n",
    "#setA|setB -> merges setA and setB after removing duplicates\n",
    "#List of all flights at source and destination airports\n",
    "all_flights=uniq_src_flights|uniq_dest_flights\n",
    "print(\"Merged flights without duplicates\")\n",
    "print(all_flights)"
   ]
  },
  {
   "cell_type": "code",
   "execution_count": null,
   "metadata": {},
   "outputs": [],
   "source": [
    "#Creating a dictionary\n",
    "crew_details={\n",
    "            \"Pilot\":\"Kumar\",\n",
    "            \"Co-Pilot\":\"Raghav\",\n",
    "            \"Head-Strewardess\":\"Malini\",\n",
    "            \"Stewardess\":\"Mala\"\n",
    "}\n",
    "print(crew_details[\"Pilot\"])\n",
    "\n",
    "print(\"\\nIterating the dictionary using items function\")\n",
    "for key,value in crew_details.items():\n",
    "    print(key,\":\",value)\n",
    "\n",
    "\n",
    "#Usually while working with dictionary, you will be interested in specific values. \n",
    "#Let’s find the value of all pilots from crew_details.\n",
    "print(\"\\nIterating the dictionary using keyword 'in'\")\n",
    "for key in crew_details:\n",
    "    if(key==\"Pilot\" or key==\"Co-Pilot\"):\n",
    "        print(crew_details[key])\n",
    "#Note: Dictionary being unordered, the order of the values being displayed may vary during each execution of the above for loop.\n",
    "\n",
    "#Dictionaries are mutable\n",
    "crew_details[\"Pilot\"]=\"James\" # Here the value for key \"Pilot\" is being updated to \"James\"\n",
    "print(\"\\nAfter modifying the value of Pilot:\", crew_details[\"Pilot\"])\n",
    "\n"
   ]
  },
  {
   "cell_type": "code",
   "execution_count": 7,
   "metadata": {},
   "outputs": [
    {
     "name": "stdout",
     "output_type": "stream",
     "text": [
      "Amar\n",
      "Name : Amar\n",
      "Last_Name : Bal\n",
      "Slno : 4\n",
      "Branch : CSE\n",
      "5\n"
     ]
    }
   ],
   "source": [
    "new_list={\n",
    "    \"Name\":\"Amar\",\n",
    "    \"Last_Name\":\"Bal\",\n",
    "    \"Slno\":\"4\",\n",
    "    \"Branch\":\"CSE\"\n",
    "}\n",
    "print(new_list[\"Name\"])\n",
    "for key,value in new_list.items():\n",
    "    print(key,\":\",value)\n",
    "for key in new_list:\n",
    "    if key == \"Slno\":\n",
    "        new_list[key] = 5\n",
    "        print(new_list[key])\n",
    "\n"
   ]
  },
  {
   "cell_type": "code",
   "execution_count": null,
   "metadata": {},
   "outputs": [],
   "source": [
    "list1 = [\"Amar\",\"Soumo\"]\n",
    "list2=[]\n",
    "new_lis1={\"Amar\":\"Bal\",\"Rahul\":\"Gupta\",\"Soumo\":\"Chakrabarty\"}\n",
    "for s in list1:\n",
    "    for key in new_lis1:\n",
    "        if s == key:\n",
    "            list2.append(new_lis1[key])\n",
    "print(list2)"
   ]
  },
  {
   "cell_type": "code",
   "execution_count": null,
   "metadata": {},
   "outputs": [],
   "source": [
    "def check_value(message,num):\n",
    "    msg=message[:num]\n",
    "    return len(msg)\n",
    "result=check_value('Infosys',4)\n",
    "#function call statement\n",
    "print(\"Result:\", result)"
   ]
  },
  {
   "cell_type": "code",
   "execution_count": null,
   "metadata": {},
   "outputs": [],
   "source": [
    "def func1():\n",
    "    print(\"Inside Func1\")\n",
    "    return 10\n",
    "\n",
    "def func2():\n",
    "    print(\"Inside Func2\")\n",
    "    num=func1()\n",
    "    return num\n",
    "\n",
    "def func3():\n",
    "    print(\"Inside Func3\")\n",
    "    num=func2()\n",
    "    num=num*5\n",
    "    return num\n",
    "\n",
    "val=func3()\n",
    "print(val)"
   ]
  },
  {
   "cell_type": "code",
   "execution_count": null,
   "metadata": {},
   "outputs": [],
   "source": [
    "def verify(num1,num2):\n",
    "    if num1 > num2:\n",
    "        return num1\n",
    "    elif num1 == num2:\n",
    "        return 1\n",
    "    else:\n",
    "        return num2\n",
    "\n",
    "def display(arg1,arg2):\n",
    "    if(verify(arg1,arg2)==arg1):\n",
    "        print(\"A\")\n",
    "    elif(verify(arg1,arg2)==1):\n",
    "        print(\"C\")\n",
    "    else:\n",
    "        print(\"B\")\n",
    "\n",
    "display(1000,3500)"
   ]
  },
  {
   "cell_type": "code",
   "execution_count": null,
   "metadata": {},
   "outputs": [],
   "source": [
    "def char_frequency(str1):\n",
    "    dict = {}\n",
    "    dictlist=[]\n",
    "    s=\"\"\n",
    "    for n in str1:\n",
    "        key = dict.keys()\n",
    "        if n in key:\n",
    "            dict[n] += 1\n",
    "        else:\n",
    "            dict[n] = 1\n",
    "    for key, value in dict.items():\n",
    "        s = s+str(key)\n",
    "        s = s+str(value)\n",
    "    return s\n",
    "print(char_frequency('ABBBBCCCCCCCCAB'))\n"
   ]
  },
  {
   "cell_type": "code",
   "execution_count": null,
   "metadata": {},
   "outputs": [],
   "source": [
    "new_lis2=[]\n",
    "temp=[]\n",
    "s=\"\"\n",
    "new_lis1={\"Amar\":\"Bal\",\"Rahul\":\"Gupta\",\"Soumo\":\"Chakrabarty\"}\n",
    "print(new_lis1[\"Amar\"])"
   ]
  },
  {
   "cell_type": "code",
   "execution_count": null,
   "metadata": {},
   "outputs": [],
   "source": [
    "def encodeRLE(encodeStr):\n",
    "\tencoded = \"\"\n",
    "\tcount = 0\n",
    "\ti = 0\n",
    "\tcharacter = encodeStr[i]\n",
    "\tfor i in range(0,len(encodeStr)):\n",
    "\t\tif(encodeStr[i] == character):\n",
    "\t\t\tcount += 1\n",
    "\t\telse:\n",
    "\t\t\tencoded += (str(count)+\"\"+str(character))\n",
    "\t\t\tcharacter = encodeStr[i]\n",
    "\t\t\tcount = 1\n",
    "\t\tif(i==(len(encodeStr)-1)):\n",
    "\t\t\tencoded += (str(count)+\"\"+str(character))\t\n",
    "\treturn encoded\n",
    "    \n",
    "    "
   ]
  },
  {
   "cell_type": "code",
   "execution_count": null,
   "metadata": {},
   "outputs": [],
   "source": [
    "input=\"wwwwaaadexxxxxxwwww\"\n",
    "s = encodeRLE(input)\n",
    "print(s)"
   ]
  },
  {
   "cell_type": "code",
   "execution_count": null,
   "metadata": {},
   "outputs": [],
   "source": [
    "message=\"MAYANMAR\"\n",
    "j=0\n",
    "for i in range(len(message)-1,-1,-1):\n",
    "    print(message[i]+\" and  \"+message[j])\n",
    "    j=j+1\n",
    "        "
   ]
  },
  {
   "cell_type": "code",
   "execution_count": null,
   "metadata": {},
   "outputs": [],
   "source": [
    "s1=\"moto\"\n",
    "s2=\"moto\"\n",
    "a=list(set(s1)&set(s2))\n",
    "print(\"The common letters are:\")\n",
    "for i in a:\n",
    "    s+=str(i)\n",
    "print(s)"
   ]
  },
  {
   "cell_type": "code",
   "execution_count": null,
   "metadata": {},
   "outputs": [],
   "source": [
    "w1 = \"one\"\n",
    "w2 = \"toe\"\n",
    "a=\"\".join(set(w1)&set(w2))\n",
    "b=\"\".join(sorted(a))\n",
    "print(b)"
   ]
  },
  {
   "cell_type": "code",
   "execution_count": null,
   "metadata": {},
   "outputs": [],
   "source": [
    "def find_common_characters(msg1,msg2):\n",
    "    a=\"\".join(set(msg1)&set(msg2))\n",
    "    a.replace(' ','')\n",
    "    s=\"\".join(sorted(a))\n",
    "    if s==\"\":\n",
    "        return -1\n",
    "    else:\n",
    "        return s\n",
    "     #Remove pass and write your logic here\n",
    "\n",
    "#Provide different values for msg1,msg2 and test your program\n",
    "msg1=\"Python\"\n",
    "msg2=\"Java is a very popular language\"\n",
    "common_characters=find_common_characters(msg1,msg2)\n",
    "print(common_characters)\n"
   ]
  },
  {
   "cell_type": "code",
   "execution_count": null,
   "metadata": {},
   "outputs": [],
   "source": []
  }
 ],
 "metadata": {
  "kernelspec": {
   "display_name": "Python 3",
   "language": "python",
   "name": "python3"
  },
  "language_info": {
   "codemirror_mode": {
    "name": "ipython",
    "version": 3
   },
   "file_extension": ".py",
   "mimetype": "text/x-python",
   "name": "python",
   "nbconvert_exporter": "python",
   "pygments_lexer": "ipython3",
   "version": "3.6.4"
  }
 },
 "nbformat": 4,
 "nbformat_minor": 2
}
